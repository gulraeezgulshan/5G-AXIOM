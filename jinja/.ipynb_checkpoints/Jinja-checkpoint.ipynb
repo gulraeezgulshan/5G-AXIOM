{
 "cells": [
  {
   "cell_type": "code",
   "execution_count": 9,
   "metadata": {},
   "outputs": [
    {
     "name": "stdout",
     "output_type": "stream",
     "text": [
      "interface FastEthernet0/1\n",
      " description Sample Desc\n",
      " switchport mode access\n",
      " switchport access vlan 10\n"
     ]
    }
   ],
   "source": [
    "from jinja2 import Template, Environment, FileSystemLoader\n",
    "ENV = Environment(loader=FileSystemLoader('.'))\n",
    "template = ENV.get_template(\"file0.j2\")\n",
    "output = template.render(interface_name=\"FastEthernet0/1\", desc=\"Sample Desc\", type=\"access\", number=\"10\")\n",
    "print(output)"
   ]
  },
  {
   "cell_type": "code",
   "execution_count": 10,
   "metadata": {},
   "outputs": [
    {
     "name": "stdout",
     "output_type": "stream",
     "text": [
      "interface FastEthernet0/10\n",
      " description This is important port\n",
      " switchport mode access\n",
      " switchport access vlan 20\n"
     ]
    }
   ],
   "source": [
    "from jinja2 import Template, Environment, FileSystemLoader\n",
    "ENV = Environment(loader=FileSystemLoader('.'))\n",
    "template = ENV.get_template(\"file0.j2\")\n",
    "output = template.render(interface_name=\"FastEthernet0/10\", desc=\"This is important port\", type=\"access\", number=\"20\")\n",
    "print(output)"
   ]
  },
  {
   "cell_type": "code",
   "execution_count": 13,
   "metadata": {},
   "outputs": [],
   "source": [
    "interface_d = {\"name\": \"FastEthernet0/10\", \n",
    "              \"desc\": \"This is important port\",\n",
    "              \"mode\": \"access\",\n",
    "              \"vlan\": \"10\"}"
   ]
  },
  {
   "cell_type": "code",
   "execution_count": 14,
   "metadata": {},
   "outputs": [
    {
     "name": "stdout",
     "output_type": "stream",
     "text": [
      "interface FastEthernet0/10\n",
      " description This is important port\n",
      " switchport mode access\n",
      " switchport access vlan 10\n"
     ]
    }
   ],
   "source": [
    "from jinja2 import Template, Environment, FileSystemLoader\n",
    "ENV = Environment(loader=FileSystemLoader('.'))\n",
    "template = ENV.get_template(\"file00.jinja2\")\n",
    "output = template.render(interface = interface_d)\n",
    "print(output)"
   ]
  },
  {
   "cell_type": "code",
   "execution_count": 58,
   "metadata": {},
   "outputs": [],
   "source": [
    "class MyClass(object):\n",
    "    def __init__ (self,name, desc, mode, vlan, uplink=False):\n",
    "        self.name = name\n",
    "        self.desc = desc\n",
    "        self.mode = mode\n",
    "        self.vlan = vlan\n",
    "        self.uplink = uplink "
   ]
  },
  {
   "cell_type": "code",
   "execution_count": 59,
   "metadata": {},
   "outputs": [],
   "source": [
    "my_obj = MyClass(\"FastEthernet0/10\",\"This is important port\",\"access\",\"10\")"
   ]
  },
  {
   "cell_type": "code",
   "execution_count": 44,
   "metadata": {},
   "outputs": [
    {
     "data": {
      "text/plain": [
       "'FastEthernet0/10'"
      ]
     },
     "execution_count": 44,
     "metadata": {},
     "output_type": "execute_result"
    }
   ],
   "source": [
    "my_obj.name"
   ]
  },
  {
   "cell_type": "code",
   "execution_count": 45,
   "metadata": {},
   "outputs": [
    {
     "data": {
      "text/plain": [
       "'This is important port'"
      ]
     },
     "execution_count": 45,
     "metadata": {},
     "output_type": "execute_result"
    }
   ],
   "source": [
    "my_obj.desc"
   ]
  },
  {
   "cell_type": "code",
   "execution_count": 46,
   "metadata": {},
   "outputs": [
    {
     "data": {
      "text/plain": [
       "True"
      ]
     },
     "execution_count": 46,
     "metadata": {},
     "output_type": "execute_result"
    }
   ],
   "source": [
    "my_obj.uplink"
   ]
  },
  {
   "cell_type": "code",
   "execution_count": 52,
   "metadata": {},
   "outputs": [
    {
     "name": "stdout",
     "output_type": "stream",
     "text": [
      "interface FastEthernet0/10\n",
      " description This is important port\n",
      " \n",
      "  switchport mode access\n",
      "  switchport access vlan 10\n",
      " \n"
     ]
    }
   ],
   "source": [
    "from jinja2 import Template, Environment, FileSystemLoader\n",
    "ENV = Environment(loader=FileSystemLoader('.'))\n",
    "template = ENV.get_template(\"file000.jinja2\")\n",
    "output = template.render(interface = my_obj)\n",
    "print(output)"
   ]
  },
  {
   "cell_type": "code",
   "execution_count": 54,
   "metadata": {},
   "outputs": [
    {
     "ename": "TypeError",
     "evalue": "unsupported operand type(s) for +: 'range' and 'int'",
     "output_type": "error",
     "traceback": [
      "\u001b[0;31m---------------------------------------------------------------------------\u001b[0m",
      "\u001b[0;31mTypeError\u001b[0m                                 Traceback (most recent call last)",
      "\u001b[0;32m<ipython-input-54-a359ebb3a234>\u001b[0m in \u001b[0;36m<module>\u001b[0;34m\u001b[0m\n\u001b[0;32m----> 1\u001b[0;31m \u001b[0mlist\u001b[0m\u001b[0;34m(\u001b[0m\u001b[0mrange\u001b[0m\u001b[0;34m(\u001b[0m\u001b[0;36m10\u001b[0m\u001b[0;34m)\u001b[0m\u001b[0;34m+\u001b[0m\u001b[0;36m1\u001b[0m\u001b[0;34m)\u001b[0m\u001b[0;34m\u001b[0m\u001b[0;34m\u001b[0m\u001b[0m\n\u001b[0m",
      "\u001b[0;31mTypeError\u001b[0m: unsupported operand type(s) for +: 'range' and 'int'"
     ]
    }
   ],
   "source": [
    "list(range(10))"
   ]
  },
  {
   "cell_type": "code",
   "execution_count": 64,
   "metadata": {},
   "outputs": [
    {
     "name": "stdout",
     "output_type": "stream",
     "text": [
      "\n",
      "interface GigabitEthernet0/1\n",
      "    description This is important port\n",
      "    \n",
      "    switchport mode access\n",
      "    switchport access vlan 10\n",
      "    \n",
      "    switchport access vlan \n",
      "\n",
      "interface GigabitEthernet0/2\n",
      "    description This is important port\n",
      "    \n",
      "    switchport mode access\n",
      "    switchport access vlan 10\n",
      "    \n",
      "    switchport access vlan \n",
      "\n",
      "interface GigabitEthernet0/3\n",
      "    description This is important port\n",
      "    \n",
      "    switchport mode trunk\n",
      "    \n",
      "    switchport access vlan \n",
      "\n",
      "interface GigabitEthernet0/4\n",
      "    description This is important port\n",
      "    \n",
      "    switchport mode access\n",
      "    switchport access vlan 10\n",
      "    \n",
      "    switchport access vlan \n",
      "\n",
      "interface GigabitEthernet0/5\n",
      "    description This is important port\n",
      "    \n",
      "    switchport mode access\n",
      "    switchport access vlan 10\n",
      "    \n",
      "    switchport access vlan \n",
      "\n",
      "interface GigabitEthernet0/6\n",
      "    description This is important port\n",
      "    \n",
      "    switchport mode access\n",
      "    switchport access vlan 10\n",
      "    \n",
      "    switchport access vlan \n",
      "\n",
      "interface GigabitEthernet0/7\n",
      "    description This is important port\n",
      "    \n",
      "    switchport mode access\n",
      "    switchport access vlan 10\n",
      "    \n",
      "    switchport access vlan \n",
      "\n",
      "interface GigabitEthernet0/8\n",
      "    description This is important port\n",
      "    \n",
      "    switchport mode access\n",
      "    switchport access vlan 10\n",
      "    \n",
      "    switchport access vlan \n",
      "\n",
      "interface GigabitEthernet0/9\n",
      "    description This is important port\n",
      "    \n",
      "    switchport mode access\n",
      "    switchport access vlan 10\n",
      "    \n",
      "    switchport access vlan \n",
      "\n",
      "interface GigabitEthernet0/10\n",
      "    description This is important port\n",
      "    \n",
      "    switchport mode access\n",
      "    switchport access vlan 10\n",
      "    \n",
      "    switchport access vlan \n",
      "\n"
     ]
    }
   ],
   "source": [
    "from jinja2 import Template, Environment, FileSystemLoader\n",
    "ENV = Environment(loader=FileSystemLoader('.'))\n",
    "template = ENV.get_template(\"file0000.jinja2\")\n",
    "output = template.render(interface = my_obj)\n",
    "print(output)"
   ]
  },
  {
   "cell_type": "code",
   "execution_count": 66,
   "metadata": {},
   "outputs": [],
   "source": [
    "int_list = [\"FasthEthernet0/1\",\n",
    "            \"FasthEthernet0/2\",\n",
    "            \"FasthEthernet0/3\",\n",
    "            \"FasthEthernet0/4\",\n",
    "            \"GigabitEthernet0/1\",\n",
    "            \"GigabitEthernet0/2\"]"
   ]
  },
  {
   "cell_type": "code",
   "execution_count": 70,
   "metadata": {
    "scrolled": true
   },
   "outputs": [
    {
     "name": "stdout",
     "output_type": "stream",
     "text": [
      "\n",
      " interface FasthEthernet0/1\n",
      " \n",
      "    switchport mode access\n",
      "  \n",
      "\n",
      " interface FasthEthernet0/2\n",
      " \n",
      "    switchport mode access\n",
      "  \n",
      "\n",
      " interface FasthEthernet0/3\n",
      " \n",
      "    switchport mode access\n",
      "  \n",
      "\n",
      " interface FasthEthernet0/4\n",
      " \n",
      "    switchport mode access\n",
      "  \n",
      "\n",
      " interface GigabitEthernet0/1\n",
      " \n",
      "    switchport mode trunk\n",
      "  \n",
      "\n",
      " interface GigabitEthernet0/2\n",
      " \n",
      "    switchport mode access\n",
      "  \n",
      "\n"
     ]
    }
   ],
   "source": [
    "from jinja2 import Template, Environment, FileSystemLoader\n",
    "ENV = Environment(loader=FileSystemLoader('.'))\n",
    "template = ENV.get_template(\"file00000.jinja2\")\n",
    "output = template.render(interface = int_list)\n",
    "print(output)"
   ]
  },
  {
   "cell_type": "code",
   "execution_count": 72,
   "metadata": {},
   "outputs": [],
   "source": [
    "int_dict = {\"FasthEthernet0/1\":\"sample desc1\",\n",
    "           \"FasthEthernet0/2\":\"sample desc2\",\n",
    "           \"FasthEthernet0/3\":\"sample desc3\",}"
   ]
  },
  {
   "cell_type": "code",
   "execution_count": 74,
   "metadata": {},
   "outputs": [
    {
     "name": "stdout",
     "output_type": "stream",
     "text": [
      "\n",
      " interface FasthEthernet0/1\n",
      "  description sample desc1\n",
      "\n",
      " interface FasthEthernet0/2\n",
      "  description sample desc2\n",
      "\n",
      " interface FasthEthernet0/3\n",
      "  description sample desc3\n",
      "\n"
     ]
    }
   ],
   "source": [
    "from jinja2 import Template, Environment, FileSystemLoader\n",
    "ENV = Environment(loader=FileSystemLoader('.'))\n",
    "template = ENV.get_template(\"file000000.jinja2\")\n",
    "output = template.render(interface = int_dict)\n",
    "print(output)"
   ]
  },
  {
   "cell_type": "code",
   "execution_count": null,
   "metadata": {},
   "outputs": [],
   "source": [
    "values = [{\"name\": \"FastEthernet0/1\", \"desc\": \"This is important port\", \"mode\": \"access\", \"vlan\": \"10\"},\n",
    "         {\"name\": \"FastEthernet0/2\", \"desc\": \"This is important port\", \"mode\": \"trunk\", \"vlan\": \"20\"}\n",
    "         {\"name\": \"FastEthernet0/3\", \"desc\": \"This is important port\", \"mode\": \"access\", \"vlan\": \"30\"}\n",
    "         {\"name\": \"FastEthernet0/4\", \"desc\": \"This is important port\", \"mode\": \"access\", \"vlan\": \"40\"}]"
   ]
  },
  {
   "cell_type": "code",
   "execution_count": null,
   "metadata": {},
   "outputs": [],
   "source": [
    "from jinja2 import Template, Environment, FileSystemLoader\n",
    "ENV = Environment(loader=FileSystemLoader('.'))\n",
    "template = ENV.get_template(\"file000000.jinja2\")\n",
    "output = template.render(interface = values)\n",
    "print(output)"
   ]
  },
  {
   "cell_type": "code",
   "execution_count": null,
   "metadata": {},
   "outputs": [],
   "source": [
    "from jinja2 import Template"
   ]
  },
  {
   "cell_type": "code",
   "execution_count": null,
   "metadata": {},
   "outputs": [],
   "source": [
    "#Laravel, MVC Razor, React??"
   ]
  },
  {
   "cell_type": "code",
   "execution_count": null,
   "metadata": {},
   "outputs": [],
   "source": [
    "ename = input('Enter your name: ')\n",
    "\n",
    "temp = Template(\"Hello {{ name }}\")\n",
    "msg = temp.render(name=ename)\n",
    "\n",
    "print(msg)"
   ]
  },
  {
   "cell_type": "code",
   "execution_count": null,
   "metadata": {},
   "outputs": [],
   "source": [
    "temp = Template(\"Hello {{ name }}\")\n",
    "msg = temp.render(name=\"Gulraiz\")\n",
    "\n",
    "print(msg)"
   ]
  },
  {
   "cell_type": "markdown",
   "metadata": {},
   "source": [
    "interface GigabitEthernet0/5\n",
    "\tdescription Server Port\n",
    "\tswitchport access vlan 50\n",
    "\tswitchport mode access"
   ]
  },
  {
   "cell_type": "code",
   "execution_count": null,
   "metadata": {},
   "outputs": [],
   "source": [
    "temp = Template(\"interface {{ interface }}\\n\\t description {{ desc }}\\n\\t switchport access vlan {{vlan}}\")\n"
   ]
  },
  {
   "cell_type": "code",
   "execution_count": null,
   "metadata": {},
   "outputs": [],
   "source": [
    "conf1 = temp.render(interface=\"GigabitEthernet0/5\", desc= \"Server Port\", vlan = \"10\")\n",
    "print(conf1)"
   ]
  },
  {
   "cell_type": "code",
   "execution_count": null,
   "metadata": {},
   "outputs": [],
   "source": [
    "conf2 = temp.render(interface=\"FastEthernet0/1\", desc= \"Sample Desc\", vlan = \"20\")\n",
    "print(conf2)"
   ]
  },
  {
   "cell_type": "code",
   "execution_count": null,
   "metadata": {},
   "outputs": [],
   "source": [
    "from jinja2 import Environment, FileSystemLoader\n",
    "ENV = Environment(loader=FileSystemLoader('.'))\n",
    "template = ENV.get_template(\"file1.j2\")\n",
    "\n",
    "data = [{'href': 'docs/images/1', 'caption': 'Image1' },\n",
    "        {'href': 'docs/images/2', 'caption': 'Image2' },\n",
    "        {'href': 'docs/images/3', 'caption': 'Image3' },\n",
    "        {'href': 'docs/images/4', 'caption': 'Image4' }]\n",
    "\n",
    "output = template.render(navigation = data, a_variable = \"Sample Desc\")\n",
    "\n",
    "print(output)"
   ]
  },
  {
   "cell_type": "code",
   "execution_count": null,
   "metadata": {},
   "outputs": [],
   "source": [
    "from jinja2 import Environment, FileSystemLoader\n",
    "ENV = Environment(loader=FileSystemLoader('.'))\n",
    "template = ENV.get_template(\"file2.jinja2\")\n",
    "\n",
    "data = ['Python', 'YAML', 'JSON', 'YANG']\n",
    "\n",
    "output = template.render(seq=data)\n",
    "\n",
    "print(output)"
   ]
  },
  {
   "cell_type": "markdown",
   "metadata": {},
   "source": [
    "{% ... %} for Statements\n",
    "\n",
    "{{ ... }} for Expressions to print to the template output\n",
    "\n",
    "{# ... #} for Comments not included in the template output\n",
    "\n",
    "'#  ... ## for Line Statements"
   ]
  },
  {
   "cell_type": "code",
   "execution_count": null,
   "metadata": {},
   "outputs": [],
   "source": [
    "from jinja2 import Environment, FileSystemLoader\n",
    "ENV = Environment(loader=FileSystemLoader('.'))\n",
    "template = ENV.get_template(\"file4.jinja2\")\n",
    "\n",
    "output = template.render()\n",
    "\n",
    "print(output)"
   ]
  },
  {
   "cell_type": "code",
   "execution_count": null,
   "metadata": {},
   "outputs": [],
   "source": [
    "from jinja2 import Environment, FileSystemLoader\n",
    "ENV = Environment(loader=FileSystemLoader('.'))\n",
    "template = ENV.get_template(\"file5.jinja2\")\n",
    "\n",
    "data = [{'username': 'axiom' },\n",
    "        {'username': 'piaic'},\n",
    "        {'username': 'gulraiz'},\n",
    "        {'username': 'haseeb'}]\n",
    "\n",
    "output = template.render(users=data)\n",
    "\n",
    "print(output)"
   ]
  },
  {
   "cell_type": "code",
   "execution_count": null,
   "metadata": {},
   "outputs": [],
   "source": [
    "from jinja2 import Environment, FileSystemLoader\n",
    "ENV = Environment(loader=FileSystemLoader('.'))\n",
    "template = ENV.get_template(\"file6.jinja2\")\n",
    "\n",
    "data = {'username': 'axiom', 'password': '123' }\n",
    "output = template.render(my_dict=data)\n",
    "\n",
    "print(output)"
   ]
  },
  {
   "cell_type": "code",
   "execution_count": null,
   "metadata": {},
   "outputs": [],
   "source": [
    "from jinja2 import Environment, FileSystemLoader\n",
    "ENV = Environment(loader=FileSystemLoader('.'))\n",
    "template = ENV.get_template(\"file7.jinja2\")\n",
    "\n",
    "data = {'username': 'axiom', 'password': '123' }\n",
    "output = template.render(rows=data)\n",
    "\n",
    "print(output)"
   ]
  },
  {
   "cell_type": "code",
   "execution_count": null,
   "metadata": {},
   "outputs": [],
   "source": [
    "from jinja2 import Environment, FileSystemLoader\n",
    "ENV = Environment(loader=FileSystemLoader('.'))\n",
    "template = ENV.get_template(\"file8.jinja2\")\n",
    "\n",
    "#data = [{'username': 'axiom' },\n",
    "        #{'username': 'piaic'},\n",
    "        #{'username': 'gulraiz'},\n",
    "        #{'username': 'haseeb'}]\n",
    "\n",
    "data = []\n",
    "\n",
    "output = template.render(users=data)\n",
    "\n",
    "print(output)"
   ]
  },
  {
   "cell_type": "code",
   "execution_count": null,
   "metadata": {},
   "outputs": [],
   "source": [
    "from jinja2 import Environment, FileSystemLoader\n",
    "ENV = Environment(loader=FileSystemLoader('.'))\n",
    "template = ENV.get_template(\"file9.jinja2\")\n",
    "\n",
    "output = template.render()\n",
    "\n",
    "print(output)"
   ]
  },
  {
   "cell_type": "code",
   "execution_count": null,
   "metadata": {},
   "outputs": [],
   "source": [
    "from jinja2 import Environment, FileSystemLoader\n",
    "from jinja2.ext import Extension\n",
    "ENV = Environment(loader=FileSystemLoader('.'), extensions=['jinja2.ext.loopcontrols'])\n",
    "template = ENV.get_template(\"file10.jinja2\")\n",
    "\n",
    "data = [{'username': 'axiom' },\n",
    "        {'username': 'piaic'},\n",
    "        {'username': 'gulraiz'},\n",
    "        {'username': 'haseeb'}]\n",
    "\n",
    "output = template.render(users=data)\n",
    "\n",
    "print(output)"
   ]
  },
  {
   "cell_type": "code",
   "execution_count": null,
   "metadata": {},
   "outputs": [],
   "source": [
    "from jinja2 import Environment, FileSystemLoader\n",
    "from jinja2.ext import Extension\n",
    "ENV = Environment(loader=FileSystemLoader('.'), extensions=['jinja2.ext.loopcontrols'])\n",
    "template = ENV.get_template(\"file11.jinja2\")\n",
    "\n",
    "data = [{'username': 'axiom' },\n",
    "        {'username': 'piaic'},\n",
    "        {'username': 'gulraiz'},\n",
    "        {'username': 'haseeb'}]\n",
    "\n",
    "output = template.render(users=data)\n",
    "\n",
    "print(output)"
   ]
  },
  {
   "cell_type": "code",
   "execution_count": null,
   "metadata": {},
   "outputs": [],
   "source": [
    "from jinja2 import Environment, FileSystemLoader\n",
    "from jinja2.ext import Extension\n",
    "ENV = Environment(loader=FileSystemLoader('.'))\n",
    "template = ENV.get_template(\"file12.jinja2\")\n",
    "\n",
    "output = template.render(users=data)\n",
    "\n",
    "print(output)"
   ]
  },
  {
   "cell_type": "code",
   "execution_count": null,
   "metadata": {},
   "outputs": [],
   "source": [
    "from jinja2 import Environment, FileSystemLoader\n",
    "from jinja2.ext import Extension\n",
    "ENV = Environment(loader=FileSystemLoader('.'))\n",
    "template = ENV.get_template(\"file13.jinja2\")\n",
    "\n",
    "data = ['python', 'yang', 'yaml','xslt','json']\n",
    "output = template.render(items=data)\n",
    "\n",
    "print(output)"
   ]
  },
  {
   "cell_type": "code",
   "execution_count": null,
   "metadata": {},
   "outputs": [],
   "source": [
    "from jinja2 import Environment, FileSystemLoader\n",
    "from jinja2.ext import Extension\n",
    "ENV = Environment(loader=FileSystemLoader('.'))\n",
    "template = ENV.get_template(\"file14.jinja2\")\n",
    "\n",
    "data = [{'name': 'gulraiz', 'city' : 'karachi' },\n",
    "        {'name': 'usman', 'city'   : 'lahore' },\n",
    "        {'name': 'haseeb', 'city' : 'karachi' },\n",
    "        {'name': 'salman', 'city' : 'karachi' }]\n",
    "\n",
    "output = template.render(users=data)\n",
    "\n",
    "print(output)"
   ]
  },
  {
   "cell_type": "code",
   "execution_count": null,
   "metadata": {},
   "outputs": [],
   "source": []
  }
 ],
 "metadata": {
  "kernelspec": {
   "display_name": "Python 3",
   "language": "python",
   "name": "python3"
  },
  "language_info": {
   "codemirror_mode": {
    "name": "ipython",
    "version": 3
   },
   "file_extension": ".py",
   "mimetype": "text/x-python",
   "name": "python",
   "nbconvert_exporter": "python",
   "pygments_lexer": "ipython3",
   "version": "3.7.6"
  }
 },
 "nbformat": 4,
 "nbformat_minor": 4
}
