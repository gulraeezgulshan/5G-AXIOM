{
 "cells": [
  {
   "cell_type": "code",
   "execution_count": 2,
   "metadata": {},
   "outputs": [],
   "source": [
    "from jinja2 import Template"
   ]
  },
  {
   "cell_type": "code",
   "execution_count": 3,
   "metadata": {},
   "outputs": [],
   "source": [
    "#Laravel, MVC Razor, React??"
   ]
  },
  {
   "cell_type": "code",
   "execution_count": 4,
   "metadata": {},
   "outputs": [
    {
     "name": "stdout",
     "output_type": "stream",
     "text": [
      "Enter your name: Axiom\n",
      "Hello Axiom\n"
     ]
    }
   ],
   "source": [
    "ename = input('Enter your name: ')\n",
    "\n",
    "temp = Template(\"Hello {{ name }}\")\n",
    "msg = temp.render(name=ename)\n",
    "\n",
    "print(msg)"
   ]
  },
  {
   "cell_type": "code",
   "execution_count": 5,
   "metadata": {},
   "outputs": [
    {
     "name": "stdout",
     "output_type": "stream",
     "text": [
      "Hello Gulraiz\n"
     ]
    }
   ],
   "source": [
    "temp = Template(\"Hello {{ name }}\")\n",
    "msg = temp.render(name=\"Gulraiz\")\n",
    "\n",
    "print(msg)"
   ]
  },
  {
   "cell_type": "markdown",
   "metadata": {},
   "source": [
    "interface GigabitEthernet0/5\n",
    "\tdescription Server Port\n",
    "\tswitchport access vlan 50\n",
    "\tswitchport mode access"
   ]
  },
  {
   "cell_type": "code",
   "execution_count": 11,
   "metadata": {},
   "outputs": [],
   "source": [
    "temp = Template(\"interface {{ interface }}\\n\\t description {{ desc }}\\n\\t switchport access vlan {{vlan}}\")\n"
   ]
  },
  {
   "cell_type": "code",
   "execution_count": 12,
   "metadata": {},
   "outputs": [
    {
     "name": "stdout",
     "output_type": "stream",
     "text": [
      "interface GigabitEthernet0/5\n",
      "\t description Server Port\n",
      "\t switchport access vlan 10\n"
     ]
    }
   ],
   "source": [
    "conf1 = temp.render(interface=\"GigabitEthernet0/5\", desc= \"Server Port\", vlan = \"10\")\n",
    "print(conf1)"
   ]
  },
  {
   "cell_type": "code",
   "execution_count": 13,
   "metadata": {},
   "outputs": [
    {
     "name": "stdout",
     "output_type": "stream",
     "text": [
      "interface FastEthernet0/1\n",
      "\t description Sample Desc\n",
      "\t switchport access vlan 20\n"
     ]
    }
   ],
   "source": [
    "conf2 = temp.render(interface=\"FastEthernet0/1\", desc= \"Sample Desc\", vlan = \"20\")\n",
    "print(conf2)"
   ]
  },
  {
   "cell_type": "code",
   "execution_count": 19,
   "metadata": {},
   "outputs": [
    {
     "name": "stdout",
     "output_type": "stream",
     "text": [
      "<!DOCTYPE html>\n",
      "<html lang=\"en\">\n",
      "<head>\n",
      "    <title>My Webpage</title>\n",
      "</head>\n",
      "<body>\n",
      "    <ul id=\"navigation\">\n",
      "    \n",
      "        <li><a href=\"docs/images/1\">Image1</a></li>\n",
      "    \n",
      "        <li><a href=\"docs/images/2\">Image2</a></li>\n",
      "    \n",
      "        <li><a href=\"docs/images/3\">Image3</a></li>\n",
      "    \n",
      "        <li><a href=\"docs/images/4\">Image4</a></li>\n",
      "    \n",
      "    </ul>\n",
      "\n",
      "    <h1>My Webpage</h1>\n",
      "    Sample Desc\n",
      "\n",
      "    \n",
      "</body>\n",
      "</html>\n"
     ]
    }
   ],
   "source": [
    "from jinja2 import Environment, FileSystemLoader\n",
    "ENV = Environment(loader=FileSystemLoader('.'))\n",
    "template = ENV.get_template(\"file1.j2\")\n",
    "\n",
    "data = [{'href': 'docs/images/1', 'caption': 'Image1' },\n",
    "        {'href': 'docs/images/2', 'caption': 'Image2' },\n",
    "        {'href': 'docs/images/3', 'caption': 'Image3' },\n",
    "        {'href': 'docs/images/4', 'caption': 'Image4' }]\n",
    "\n",
    "output = template.render(navigation = data, a_variable = \"Sample Desc\")\n",
    "\n",
    "print(output)"
   ]
  },
  {
   "cell_type": "code",
   "execution_count": 36,
   "metadata": {},
   "outputs": [
    {
     "name": "stdout",
     "output_type": "stream",
     "text": [
      "<!DOCTYPE html>\n",
      "<html lang=\"en\">\n",
      "<head>\n",
      "    <title>My Webpage</title>\n",
      "</head>\n",
      "<body>\n",
      "    \n",
      "    <ul>\n",
      "    {% for item in seq %}\n",
      "        <li>{{ item }}</li>\n",
      "    {% endfor %}\n",
      "    </ul>\n",
      "    \n",
      "  \n",
      "    <ul>\n",
      "    \n",
      "        <li>Python</li>\n",
      "    \n",
      "        <li>YAML</li>\n",
      "    \n",
      "        <li>JSON</li>\n",
      "    \n",
      "        <li>YANG</li>\n",
      "    \n",
      "    </ul>\n",
      "</body>\n",
      "</html>\n"
     ]
    }
   ],
   "source": [
    "from jinja2 import Environment, FileSystemLoader\n",
    "ENV = Environment(loader=FileSystemLoader('.'))\n",
    "template = ENV.get_template(\"file2.jinja2\")\n",
    "\n",
    "data = ['Python', 'YAML', 'JSON', 'YANG']\n",
    "\n",
    "output = template.render(seq=data)\n",
    "\n",
    "print(output)"
   ]
  },
  {
   "cell_type": "markdown",
   "metadata": {},
   "source": [
    "{% ... %} for Statements\n",
    "\n",
    "{{ ... }} for Expressions to print to the template output\n",
    "\n",
    "{# ... #} for Comments not included in the template output\n",
    "\n",
    "'#  ... ## for Line Statements"
   ]
  },
  {
   "cell_type": "code",
   "execution_count": 34,
   "metadata": {},
   "outputs": [
    {
     "name": "stdout",
     "output_type": "stream",
     "text": [
      "<!DOCTYPE html>\n",
      "<html lang=\"en\">\n",
      "<head>\n",
      "    \n",
      "    \n",
      "    <link rel=\"stylesheet\" href=\"style.css\" />\n",
      "    <title>Index - My Webpage</title>\n",
      "    \n",
      "    <style type=\"text/css\">\n",
      "        .important { color: #336699; }\n",
      "    </style>\n",
      "\n",
      "</head>\n",
      "<body>\n",
      "    <div id=\"content\">\n",
      "    <h1>Index</h1>\n",
      "    <p class=\"important\">\n",
      "      Welcome to my awesome homepage.\n",
      "    </p>\n",
      "</div>\n",
      "    <div id=\"footer\">\n",
      "        \n",
      "        &copy; Copyright 2008 by <a href=\"http://domain.invalid/\">you</a>.\n",
      "        \n",
      "    </div>\n",
      "</body>\n",
      "</html>\n"
     ]
    }
   ],
   "source": [
    "from jinja2 import Environment, FileSystemLoader\n",
    "ENV = Environment(loader=FileSystemLoader('.'))\n",
    "template = ENV.get_template(\"file4.jinja2\")\n",
    "\n",
    "output = template.render()\n",
    "\n",
    "print(output)"
   ]
  },
  {
   "cell_type": "code",
   "execution_count": 41,
   "metadata": {},
   "outputs": [
    {
     "name": "stdout",
     "output_type": "stream",
     "text": [
      "<!DOCTYPE html>\n",
      "<html lang=\"en\">\n",
      "<head>\n",
      "    <title>My Webpage</title>\n",
      "</head>\n",
      "<body>\n",
      "    <h1>Members</h1>\n",
      "        <ul>\n",
      "        \n",
      "            <li>axiom</li>\n",
      "        \n",
      "            <li>piaic</li>\n",
      "        \n",
      "            <li>gulraiz</li>\n",
      "        \n",
      "            <li>haseeb</li>\n",
      "        \n",
      "        </ul>\n",
      "</body>\n",
      "</html>\n"
     ]
    }
   ],
   "source": [
    "from jinja2 import Environment, FileSystemLoader\n",
    "ENV = Environment(loader=FileSystemLoader('.'))\n",
    "template = ENV.get_template(\"file5.jinja2\")\n",
    "\n",
    "data = [{'username': 'axiom' },\n",
    "        {'username': 'piaic'},\n",
    "        {'username': 'gulraiz'},\n",
    "        {'username': 'haseeb'}]\n",
    "\n",
    "output = template.render(users=data)\n",
    "\n",
    "print(output)"
   ]
  },
  {
   "cell_type": "code",
   "execution_count": 48,
   "metadata": {},
   "outputs": [
    {
     "name": "stdout",
     "output_type": "stream",
     "text": [
      "<!DOCTYPE html>\n",
      "<html lang=\"en\">\n",
      "<head>\n",
      "    <title>My Webpage</title>\n",
      "</head>\n",
      "<body>\n",
      "    <dl>\n",
      "    \n",
      "        <dt>username</dt>\n",
      "        <dd>axiom</dd>\n",
      "    \n",
      "        <dt>password</dt>\n",
      "        <dd>123</dd>\n",
      "    \n",
      "    </dl>\n",
      "</body>\n",
      "</html>\n"
     ]
    }
   ],
   "source": [
    "from jinja2 import Environment, FileSystemLoader\n",
    "ENV = Environment(loader=FileSystemLoader('.'))\n",
    "template = ENV.get_template(\"file6.jinja2\")\n",
    "\n",
    "data = {'username': 'axiom', 'password': '123' }\n",
    "output = template.render(my_dict=data)\n",
    "\n",
    "print(output)"
   ]
  },
  {
   "cell_type": "code",
   "execution_count": 60,
   "metadata": {},
   "outputs": [
    {
     "name": "stdout",
     "output_type": "stream",
     "text": [
      "<!DOCTYPE html>\n",
      "<html lang=\"en\">\n",
      "<head>\n",
      "    <title>My Webpage</title>\n",
      "</head>\n",
      "<body>\n",
      "    <ul>\n",
      "    \n",
      "        <li class=\"odd\">username</li>\n",
      "    \n",
      "        <li class=\"even\">password</li>\n",
      "    \n",
      "    </ul>\n",
      "</body>\n",
      "</html>\n"
     ]
    }
   ],
   "source": [
    "from jinja2 import Environment, FileSystemLoader\n",
    "ENV = Environment(loader=FileSystemLoader('.'))\n",
    "template = ENV.get_template(\"file7.jinja2\")\n",
    "\n",
    "data = {'username': 'axiom', 'password': '123' }\n",
    "output = template.render(rows=data)\n",
    "\n",
    "print(output)"
   ]
  },
  {
   "cell_type": "code",
   "execution_count": 70,
   "metadata": {},
   "outputs": [
    {
     "name": "stdout",
     "output_type": "stream",
     "text": [
      "<!DOCTYPE html>\n",
      "<html lang=\"en\">\n",
      "<head>\n",
      "    <title>My Webpage</title>\n",
      "</head>\n",
      "<body>\n",
      "   <ul>\n",
      "    \n",
      "        <li><em>no users found</em></li>\n",
      "    \n",
      "</ul>\n",
      "</body>\n",
      "</html>\n"
     ]
    }
   ],
   "source": [
    "from jinja2 import Environment, FileSystemLoader\n",
    "ENV = Environment(loader=FileSystemLoader('.'))\n",
    "template = ENV.get_template(\"file8.jinja2\")\n",
    "\n",
    "#data = [{'username': 'axiom' },\n",
    "        #{'username': 'piaic'},\n",
    "        #{'username': 'gulraiz'},\n",
    "        #{'username': 'haseeb'}]\n",
    "\n",
    "data = []\n",
    "\n",
    "output = template.render(users=data)\n",
    "\n",
    "print(output)"
   ]
  },
  {
   "cell_type": "code",
   "execution_count": 86,
   "metadata": {},
   "outputs": [
    {
     "name": "stdout",
     "output_type": "stream",
     "text": [
      "<!DOCTYPE html>\n",
      "<html lang=\"en\">\n",
      "<head>\n",
      "    <title>My Webpage</title>\n",
      "</head>\n",
      "<body>\n",
      "    \n",
      "\n",
      "    <p><input type=\"text\" name=\"username\" value=\"\" size=\"20\"></p>\n",
      "    <p><input type=\"password\" name=\"password\" value=\"\" size=\"20\"></p>\n",
      "</body>\n",
      "</html>\n"
     ]
    }
   ],
   "source": [
    "from jinja2 import Environment, FileSystemLoader\n",
    "ENV = Environment(loader=FileSystemLoader('.'))\n",
    "template = ENV.get_template(\"file9.jinja2\")\n",
    "\n",
    "output = template.render()\n",
    "\n",
    "print(output)"
   ]
  },
  {
   "cell_type": "code",
   "execution_count": 98,
   "metadata": {},
   "outputs": [
    {
     "name": "stdout",
     "output_type": "stream",
     "text": [
      "<!DOCTYPE html>\n",
      "<html lang=\"en\">\n",
      "<head>\n",
      "    <title>My Webpage</title>\n",
      "</head>\n",
      "<body>\n",
      "   <ul>\n",
      "   \n",
      "        <li>axiom</li>\n",
      "    \n",
      "        <li>gulraiz</li>\n",
      "    \n",
      "</ul>\n",
      "</body>\n",
      "</html>\n"
     ]
    }
   ],
   "source": [
    "from jinja2 import Environment, FileSystemLoader\n",
    "from jinja2.ext import Extension\n",
    "ENV = Environment(loader=FileSystemLoader('.'), extensions=['jinja2.ext.loopcontrols'])\n",
    "template = ENV.get_template(\"file10.jinja2\")\n",
    "\n",
    "data = [{'username': 'axiom' },\n",
    "        {'username': 'piaic'},\n",
    "        {'username': 'gulraiz'},\n",
    "        {'username': 'haseeb'}]\n",
    "\n",
    "output = template.render(users=data)\n",
    "\n",
    "print(output)"
   ]
  },
  {
   "cell_type": "code",
   "execution_count": 100,
   "metadata": {},
   "outputs": [
    {
     "name": "stdout",
     "output_type": "stream",
     "text": [
      "<!DOCTYPE html>\n",
      "<html lang=\"en\">\n",
      "<head>\n",
      "    <title>My Webpage</title>\n",
      "</head>\n",
      "<body>\n",
      "   <ul>\n",
      "   \n",
      "        <li>axiom</li>\n",
      "        <li>piaic</li>\n",
      "</ul>\n",
      "</body>\n",
      "</html>\n"
     ]
    }
   ],
   "source": [
    "from jinja2 import Environment, FileSystemLoader\n",
    "from jinja2.ext import Extension\n",
    "ENV = Environment(loader=FileSystemLoader('.'), extensions=['jinja2.ext.loopcontrols'])\n",
    "template = ENV.get_template(\"file11.jinja2\")\n",
    "\n",
    "data = [{'username': 'axiom' },\n",
    "        {'username': 'piaic'},\n",
    "        {'username': 'gulraiz'},\n",
    "        {'username': 'haseeb'}]\n",
    "\n",
    "output = template.render(users=data)\n",
    "\n",
    "print(output)"
   ]
  },
  {
   "cell_type": "code",
   "execution_count": 101,
   "metadata": {},
   "outputs": [
    {
     "name": "stdout",
     "output_type": "stream",
     "text": [
      "<!DOCTYPE html>\n",
      "<html lang=\"en\">\n",
      "<head>\n",
      "    <title>My Webpage</title>\n",
      "</head>\n",
      "<body>\n",
      "   <ul>\n",
      "    \n",
      "    <li><a href=\"index.html\">Index</a></li>\n",
      "    \n",
      "    <li><a href=\"about.html\">About</a></li>\n",
      "    \n",
      "    <li><a href=\"downloads.html\">Downloads</a></li>\n",
      "    \n",
      "</ul>\n",
      "</body>\n",
      "</html>\n"
     ]
    }
   ],
   "source": [
    "from jinja2 import Environment, FileSystemLoader\n",
    "from jinja2.ext import Extension\n",
    "ENV = Environment(loader=FileSystemLoader('.'))\n",
    "template = ENV.get_template(\"file12.jinja2\")\n",
    "\n",
    "output = template.render(users=data)\n",
    "\n",
    "print(output)"
   ]
  },
  {
   "cell_type": "code",
   "execution_count": 105,
   "metadata": {},
   "outputs": [
    {
     "name": "stdout",
     "output_type": "stream",
     "text": [
      "<!DOCTYPE html>\n",
      "<html lang=\"en\">\n",
      "<head>\n",
      "    <title>My Webpage</title>\n",
      "</head>\n",
      "<body>\n",
      "    <table>\n",
      "        <tr>\n",
      "            <td>python</td>\n",
      "            <td>yang</td>\n",
      "            <td>yaml</td>\n",
      "        </tr>\n",
      "        <tr>\n",
      "            <td>xslt</td>\n",
      "            <td>json</td>\n",
      "            <td>n/a</td>\n",
      "        </tr>\n",
      "    </table>\n",
      "</body>\n",
      "</html>\n"
     ]
    }
   ],
   "source": [
    "from jinja2 import Environment, FileSystemLoader\n",
    "from jinja2.ext import Extension\n",
    "ENV = Environment(loader=FileSystemLoader('.'))\n",
    "template = ENV.get_template(\"file13.jinja2\")\n",
    "\n",
    "data = ['python', 'yang', 'yaml','xslt','json']\n",
    "output = template.render(items=data)\n",
    "\n",
    "print(output)"
   ]
  },
  {
   "cell_type": "code",
   "execution_count": 113,
   "metadata": {},
   "outputs": [
    {
     "name": "stdout",
     "output_type": "stream",
     "text": [
      "<!DOCTYPE html>\n",
      "<html lang=\"en\">\n",
      "<head>\n",
      "    <title>My Webpage</title>\n",
      "</head>\n",
      "<body>\n",
      "    <ul>\n",
      "        <li>karachi\n",
      "            <ul>\n",
      "                <li>axiom</li>\n",
      "            \n",
      "                <li>axiom</li>\n",
      "            \n",
      "                <li>axiom</li>\n",
      "            \n",
      "                <li>axiom</li>\n",
      "            </ul>\n",
      "        </li>\n",
      "    </ul>\n",
      "</body>\n",
      "</html>\n"
     ]
    }
   ],
   "source": [
    "from jinja2 import Environment, FileSystemLoader\n",
    "from jinja2.ext import Extension\n",
    "ENV = Environment(loader=FileSystemLoader('.'))\n",
    "template = ENV.get_template(\"file14.jinja2\")\n",
    "\n",
    "data = [{'name': 'gulraiz', 'city' : 'karachi' },\n",
    "        {'name': 'usman', 'city'   : 'lahore' },\n",
    "        {'name': 'haseeb', 'city' : 'karachi' },\n",
    "        {'name': 'salman', 'city' : 'karachi' }]\n",
    "\n",
    "output = template.render(users=data)\n",
    "\n",
    "print(output)"
   ]
  },
  {
   "cell_type": "code",
   "execution_count": null,
   "metadata": {},
   "outputs": [],
   "source": []
  }
 ],
 "metadata": {
  "kernelspec": {
   "display_name": "Python 3",
   "language": "python",
   "name": "python3"
  },
  "language_info": {
   "codemirror_mode": {
    "name": "ipython",
    "version": 3
   },
   "file_extension": ".py",
   "mimetype": "text/x-python",
   "name": "python",
   "nbconvert_exporter": "python",
   "pygments_lexer": "ipython3",
   "version": "3.7.6"
  }
 },
 "nbformat": 4,
 "nbformat_minor": 4
}
