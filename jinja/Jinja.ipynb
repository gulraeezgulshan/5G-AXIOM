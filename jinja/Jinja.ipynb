{
 "cells": [
  {
   "cell_type": "code",
   "execution_count": 1,
   "metadata": {},
   "outputs": [],
   "source": [
    "from jinja2 import Template"
   ]
  },
  {
   "cell_type": "code",
   "execution_count": null,
   "metadata": {},
   "outputs": [],
   "source": [
    "#Laravel, MVC Razor, React??"
   ]
  },
  {
   "cell_type": "code",
   "execution_count": 4,
   "metadata": {},
   "outputs": [
    {
     "name": "stdout",
     "output_type": "stream",
     "text": [
      "Enter your name: Axiom\n",
      "Hello Axiom\n"
     ]
    }
   ],
   "source": [
    "ename = input('Enter your name: ')\n",
    "\n",
    "temp = Template(\"Hello {{ name }}\")\n",
    "msg = temp.render(name=ename)\n",
    "\n",
    "print(msg)"
   ]
  },
  {
   "cell_type": "code",
   "execution_count": 5,
   "metadata": {},
   "outputs": [
    {
     "name": "stdout",
     "output_type": "stream",
     "text": [
      "Hello Gulraiz\n"
     ]
    }
   ],
   "source": [
    "temp = Template(\"Hello {{ name }}\")\n",
    "msg = temp.render(name=\"Gulraiz\")\n",
    "\n",
    "print(msg)"
   ]
  },
  {
   "cell_type": "markdown",
   "metadata": {},
   "source": [
    "interface GigabitEthernet0/5\n",
    "\tdescription Server Port\n",
    "\tswitchport access vlan 50\n",
    "\tswitchport mode access"
   ]
  },
  {
   "cell_type": "code",
   "execution_count": 11,
   "metadata": {},
   "outputs": [],
   "source": [
    "temp = Template(\"interface {{ interface }}\\n\\t description {{ desc }}\\n\\t switchport access vlan {{vlan}}\")\n"
   ]
  },
  {
   "cell_type": "code",
   "execution_count": 12,
   "metadata": {},
   "outputs": [
    {
     "name": "stdout",
     "output_type": "stream",
     "text": [
      "interface GigabitEthernet0/5\n",
      "\t description Server Port\n",
      "\t switchport access vlan 10\n"
     ]
    }
   ],
   "source": [
    "conf1 = temp.render(interface=\"GigabitEthernet0/5\", desc= \"Server Port\", vlan = \"10\")\n",
    "print(conf1)"
   ]
  },
  {
   "cell_type": "code",
   "execution_count": 13,
   "metadata": {},
   "outputs": [
    {
     "name": "stdout",
     "output_type": "stream",
     "text": [
      "interface FastEthernet0/1\n",
      "\t description Sample Desc\n",
      "\t switchport access vlan 20\n"
     ]
    }
   ],
   "source": [
    "conf2 = temp.render(interface=\"FastEthernet0/1\", desc= \"Sample Desc\", vlan = \"20\")\n",
    "print(conf2)"
   ]
  },
  {
   "cell_type": "code",
   "execution_count": null,
   "metadata": {},
   "outputs": [],
   "source": []
  }
 ],
 "metadata": {
  "kernelspec": {
   "display_name": "Python 3",
   "language": "python",
   "name": "python3"
  },
  "language_info": {
   "codemirror_mode": {
    "name": "ipython",
    "version": 3
   },
   "file_extension": ".py",
   "mimetype": "text/x-python",
   "name": "python",
   "nbconvert_exporter": "python",
   "pygments_lexer": "ipython3",
   "version": "3.7.6"
  }
 },
 "nbformat": 4,
 "nbformat_minor": 4
}
