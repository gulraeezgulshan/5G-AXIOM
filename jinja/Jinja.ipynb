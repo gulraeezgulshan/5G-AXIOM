{
 "cells": [
  {
   "cell_type": "code",
   "execution_count": null,
   "metadata": {},
   "outputs": [],
   "source": [
    "from jinja2 import Template"
   ]
  },
  {
   "cell_type": "code",
   "execution_count": null,
   "metadata": {},
   "outputs": [],
   "source": [
    "#Laravel, MVC Razor, React??"
   ]
  },
  {
   "cell_type": "code",
   "execution_count": null,
   "metadata": {},
   "outputs": [],
   "source": [
    "ename = input('Enter your name: ')\n",
    "\n",
    "temp = Template(\"Hello {{ name }}\")\n",
    "msg = temp.render(name=ename)\n",
    "\n",
    "print(msg)"
   ]
  },
  {
   "cell_type": "code",
   "execution_count": null,
   "metadata": {},
   "outputs": [],
   "source": [
    "temp = Template(\"Hello {{ name }}\")\n",
    "msg = temp.render(name=\"Gulraiz\")\n",
    "\n",
    "print(msg)"
   ]
  },
  {
   "cell_type": "markdown",
   "metadata": {},
   "source": [
    "interface GigabitEthernet0/5\n",
    "\tdescription Server Port\n",
    "\tswitchport access vlan 50\n",
    "\tswitchport mode access"
   ]
  },
  {
   "cell_type": "code",
   "execution_count": null,
   "metadata": {},
   "outputs": [],
   "source": [
    "temp = Template(\"interface {{ interface }}\\n\\t description {{ desc }}\\n\\t switchport access vlan {{vlan}}\")\n"
   ]
  },
  {
   "cell_type": "code",
   "execution_count": null,
   "metadata": {},
   "outputs": [],
   "source": [
    "conf1 = temp.render(interface=\"GigabitEthernet0/5\", desc= \"Server Port\", vlan = \"10\")\n",
    "print(conf1)"
   ]
  },
  {
   "cell_type": "code",
   "execution_count": null,
   "metadata": {},
   "outputs": [],
   "source": [
    "conf2 = temp.render(interface=\"FastEthernet0/1\", desc= \"Sample Desc\", vlan = \"20\")\n",
    "print(conf2)"
   ]
  },
  {
   "cell_type": "code",
   "execution_count": null,
   "metadata": {},
   "outputs": [],
   "source": [
    "from jinja2 import Environment, FileSystemLoader\n",
    "ENV = Environment(loader=FileSystemLoader('.'))\n",
    "template = ENV.get_template(\"file1.j2\")\n",
    "\n",
    "data = [{'href': 'docs/images/1', 'caption': 'Image1' },\n",
    "        {'href': 'docs/images/2', 'caption': 'Image2' },\n",
    "        {'href': 'docs/images/3', 'caption': 'Image3' },\n",
    "        {'href': 'docs/images/4', 'caption': 'Image4' }]\n",
    "\n",
    "output = template.render(navigation = data, a_variable = \"Sample Desc\")\n",
    "\n",
    "print(output)"
   ]
  },
  {
   "cell_type": "code",
   "execution_count": null,
   "metadata": {},
   "outputs": [],
   "source": [
    "from jinja2 import Environment, FileSystemLoader\n",
    "ENV = Environment(loader=FileSystemLoader('.'))\n",
    "template = ENV.get_template(\"file2.jinja2\")\n",
    "\n",
    "data = ['Python', 'YAML', 'JSON', 'YANG']\n",
    "\n",
    "output = template.render(seq=data)\n",
    "\n",
    "print(output)"
   ]
  },
  {
   "cell_type": "markdown",
   "metadata": {},
   "source": [
    "{% ... %} for Statements\n",
    "\n",
    "{{ ... }} for Expressions to print to the template output\n",
    "\n",
    "{# ... #} for Comments not included in the template output\n",
    "\n",
    "'#  ... ## for Line Statements"
   ]
  },
  {
   "cell_type": "code",
   "execution_count": null,
   "metadata": {},
   "outputs": [],
   "source": [
    "from jinja2 import Environment, FileSystemLoader\n",
    "ENV = Environment(loader=FileSystemLoader('.'))\n",
    "template = ENV.get_template(\"file4.jinja2\")\n",
    "\n",
    "output = template.render()\n",
    "\n",
    "print(output)"
   ]
  },
  {
   "cell_type": "code",
   "execution_count": null,
   "metadata": {},
   "outputs": [],
   "source": [
    "from jinja2 import Environment, FileSystemLoader\n",
    "ENV = Environment(loader=FileSystemLoader('.'))\n",
    "template = ENV.get_template(\"file5.jinja2\")\n",
    "\n",
    "data = [{'username': 'axiom' },\n",
    "        {'username': 'piaic'},\n",
    "        {'username': 'gulraiz'},\n",
    "        {'username': 'haseeb'}]\n",
    "\n",
    "output = template.render(users=data)\n",
    "\n",
    "print(output)"
   ]
  },
  {
   "cell_type": "code",
   "execution_count": null,
   "metadata": {},
   "outputs": [],
   "source": [
    "from jinja2 import Environment, FileSystemLoader\n",
    "ENV = Environment(loader=FileSystemLoader('.'))\n",
    "template = ENV.get_template(\"file6.jinja2\")\n",
    "\n",
    "data = {'username': 'axiom', 'password': '123' }\n",
    "output = template.render(my_dict=data)\n",
    "\n",
    "print(output)"
   ]
  },
  {
   "cell_type": "code",
   "execution_count": null,
   "metadata": {},
   "outputs": [],
   "source": [
    "from jinja2 import Environment, FileSystemLoader\n",
    "ENV = Environment(loader=FileSystemLoader('.'))\n",
    "template = ENV.get_template(\"file7.jinja2\")\n",
    "\n",
    "data = {'username': 'axiom', 'password': '123' }\n",
    "output = template.render(rows=data)\n",
    "\n",
    "print(output)"
   ]
  },
  {
   "cell_type": "code",
   "execution_count": null,
   "metadata": {},
   "outputs": [],
   "source": [
    "from jinja2 import Environment, FileSystemLoader\n",
    "ENV = Environment(loader=FileSystemLoader('.'))\n",
    "template = ENV.get_template(\"file8.jinja2\")\n",
    "\n",
    "#data = [{'username': 'axiom' },\n",
    "        #{'username': 'piaic'},\n",
    "        #{'username': 'gulraiz'},\n",
    "        #{'username': 'haseeb'}]\n",
    "\n",
    "data = []\n",
    "\n",
    "output = template.render(users=data)\n",
    "\n",
    "print(output)"
   ]
  },
  {
   "cell_type": "code",
   "execution_count": null,
   "metadata": {},
   "outputs": [],
   "source": [
    "from jinja2 import Environment, FileSystemLoader\n",
    "ENV = Environment(loader=FileSystemLoader('.'))\n",
    "template = ENV.get_template(\"file9.jinja2\")\n",
    "\n",
    "output = template.render()\n",
    "\n",
    "print(output)"
   ]
  },
  {
   "cell_type": "code",
   "execution_count": null,
   "metadata": {},
   "outputs": [],
   "source": [
    "from jinja2 import Environment, FileSystemLoader\n",
    "from jinja2.ext import Extension\n",
    "ENV = Environment(loader=FileSystemLoader('.'), extensions=['jinja2.ext.loopcontrols'])\n",
    "template = ENV.get_template(\"file10.jinja2\")\n",
    "\n",
    "data = [{'username': 'axiom' },\n",
    "        {'username': 'piaic'},\n",
    "        {'username': 'gulraiz'},\n",
    "        {'username': 'haseeb'}]\n",
    "\n",
    "output = template.render(users=data)\n",
    "\n",
    "print(output)"
   ]
  },
  {
   "cell_type": "code",
   "execution_count": null,
   "metadata": {},
   "outputs": [],
   "source": [
    "from jinja2 import Environment, FileSystemLoader\n",
    "from jinja2.ext import Extension\n",
    "ENV = Environment(loader=FileSystemLoader('.'), extensions=['jinja2.ext.loopcontrols'])\n",
    "template = ENV.get_template(\"file11.jinja2\")\n",
    "\n",
    "data = [{'username': 'axiom' },\n",
    "        {'username': 'piaic'},\n",
    "        {'username': 'gulraiz'},\n",
    "        {'username': 'haseeb'}]\n",
    "\n",
    "output = template.render(users=data)\n",
    "\n",
    "print(output)"
   ]
  },
  {
   "cell_type": "code",
   "execution_count": null,
   "metadata": {},
   "outputs": [],
   "source": [
    "from jinja2 import Environment, FileSystemLoader\n",
    "from jinja2.ext import Extension\n",
    "ENV = Environment(loader=FileSystemLoader('.'))\n",
    "template = ENV.get_template(\"file12.jinja2\")\n",
    "\n",
    "output = template.render(users=data)\n",
    "\n",
    "print(output)"
   ]
  },
  {
   "cell_type": "code",
   "execution_count": null,
   "metadata": {},
   "outputs": [],
   "source": [
    "from jinja2 import Environment, FileSystemLoader\n",
    "from jinja2.ext import Extension\n",
    "ENV = Environment(loader=FileSystemLoader('.'))\n",
    "template = ENV.get_template(\"file13.jinja2\")\n",
    "\n",
    "data = ['python', 'yang', 'yaml','xslt','json']\n",
    "output = template.render(items=data)\n",
    "\n",
    "print(output)"
   ]
  },
  {
   "cell_type": "code",
   "execution_count": null,
   "metadata": {},
   "outputs": [],
   "source": [
    "from jinja2 import Environment, FileSystemLoader\n",
    "from jinja2.ext import Extension\n",
    "ENV = Environment(loader=FileSystemLoader('.'))\n",
    "template = ENV.get_template(\"file14.jinja2\")\n",
    "\n",
    "data = [{'name': 'gulraiz', 'city' : 'karachi' },\n",
    "        {'name': 'usman', 'city'   : 'lahore' },\n",
    "        {'name': 'haseeb', 'city' : 'karachi' },\n",
    "        {'name': 'salman', 'city' : 'karachi' }]\n",
    "\n",
    "output = template.render(users=data)\n",
    "\n",
    "print(output)"
   ]
  },
  {
   "cell_type": "code",
   "execution_count": null,
   "metadata": {},
   "outputs": [],
   "source": []
  }
 ],
 "metadata": {
  "kernelspec": {
   "display_name": "Python 3",
   "language": "python",
   "name": "python3"
  },
  "language_info": {
   "codemirror_mode": {
    "name": "ipython",
    "version": 3
   },
   "file_extension": ".py",
   "mimetype": "text/x-python",
   "name": "python",
   "nbconvert_exporter": "python",
   "pygments_lexer": "ipython3",
   "version": "3.7.6"
  }
 },
 "nbformat": 4,
 "nbformat_minor": 4
}
