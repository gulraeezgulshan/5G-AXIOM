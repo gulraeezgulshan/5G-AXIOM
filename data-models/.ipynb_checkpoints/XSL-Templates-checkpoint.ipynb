{
 "cells": [
  {
   "cell_type": "code",
   "execution_count": 36,
   "metadata": {},
   "outputs": [
    {
     "name": "stdout",
     "output_type": "stream",
     "text": [
      "<?xml version=\"1.0\"?>\n",
      "\n",
      "            interface GigabitEthernet0/0\n",
      "                ip address 192.168.0.1 255.255.255.0\n",
      "            interface GigabitEthernet0/1\n",
      "                ip address 172.16.31.1 255.255.255.0\n",
      "            interface GigabitEthernet0/2\n",
      "                ip address 10.3.2.1 255.255.254.0\n",
      "\n"
     ]
    }
   ],
   "source": [
    "import lxml.etree as ET\n",
    "\n",
    "dom = ET.parse(\"xml-files/conf1.xml\")\n",
    "xslt = ET.parse(\"xml-files/conf1.xsl\")\n",
    "transform = ET.XSLT(xslt)\n",
    "newdom = transform(dom)\n",
    "print(newdom)"
   ]
  },
  {
   "cell_type": "code",
   "execution_count": 52,
   "metadata": {},
   "outputs": [
    {
     "name": "stdout",
     "output_type": "stream",
     "text": [
      "<?xml version=\"1.0\"?>\n",
      "\n",
      "            enable\n",
      "            configure terminal\n",
      "            !\n",
      "            hostname SW1\n",
      "            !\n",
      "            \n",
      "            vlan 10\n",
      "             name SALES\n",
      "             exit\n",
      "            !\n",
      "            \n",
      "            vlan 20\n",
      "             name IT\n",
      "             exit\n",
      "            !\n",
      "            \n",
      "            vlan 30\n",
      "             name MARKETING\n",
      "             exit\n",
      "            !\n",
      "            \n",
      "            vlan 40\n",
      "             name ACCOUNTS\n",
      "             exit\n",
      "            !\n",
      "            \n",
      "            int FastEthernet0/1\n",
      "             switchport mode access\n",
      "             switchport access vlan 10\n",
      "             exit\n",
      "            !\n",
      "            \n",
      "            int FastEthernet0/2\n",
      "             switchport mode access\n",
      "             switchport access vlan 20\n",
      "             exit\n",
      "            !\n",
      "            \n",
      "            int FastEthernet0/3\n",
      "             switchport mode trunk\n",
      "             exit\n",
      "            !\n",
      "            \n",
      "            exit\n",
      "            copy running-config startup-config\n",
      "            \n",
      "            !\n",
      "        \n",
      "\n"
     ]
    }
   ],
   "source": [
    "import lxml.etree as ET\n",
    "\n",
    "dom = ET.parse(\"xml-files/conf2.xml\")\n",
    "xslt = ET.parse(\"xml-files/conf2.xsl\")\n",
    "transform = ET.XSLT(xslt)\n",
    "newdom = transform(dom)\n",
    "print(newdom)"
   ]
  },
  {
   "cell_type": "code",
   "execution_count": null,
   "metadata": {},
   "outputs": [],
   "source": []
  }
 ],
 "metadata": {
  "kernelspec": {
   "display_name": "Python 3",
   "language": "python",
   "name": "python3"
  },
  "language_info": {
   "codemirror_mode": {
    "name": "ipython",
    "version": 3
   },
   "file_extension": ".py",
   "mimetype": "text/x-python",
   "name": "python",
   "nbconvert_exporter": "python",
   "pygments_lexer": "ipython3",
   "version": "3.7.6"
  }
 },
 "nbformat": 4,
 "nbformat_minor": 4
}
