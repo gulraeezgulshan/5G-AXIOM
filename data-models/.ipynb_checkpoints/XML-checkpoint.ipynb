{
 "cells": [
  {
   "cell_type": "code",
   "execution_count": 157,
   "metadata": {},
   "outputs": [],
   "source": [
    "import xml.etree.ElementTree as ET"
   ]
  },
  {
   "cell_type": "code",
   "execution_count": 168,
   "metadata": {},
   "outputs": [],
   "source": [
    "tree = ET.parse('xml-files/books.xml')\n",
    "root = tree.getroot()"
   ]
  },
  {
   "cell_type": "code",
   "execution_count": 169,
   "metadata": {},
   "outputs": [
    {
     "data": {
      "text/plain": [
       "<Element 'bookstore' at 0x7f2a6c20f050>"
      ]
     },
     "execution_count": 169,
     "metadata": {},
     "output_type": "execute_result"
    }
   ],
   "source": [
    "root"
   ]
  },
  {
   "cell_type": "code",
   "execution_count": 170,
   "metadata": {},
   "outputs": [
    {
     "data": {
      "text/plain": [
       "'bookstore'"
      ]
     },
     "execution_count": 170,
     "metadata": {},
     "output_type": "execute_result"
    }
   ],
   "source": [
    "root.tag"
   ]
  },
  {
   "cell_type": "code",
   "execution_count": 171,
   "metadata": {},
   "outputs": [
    {
     "data": {
      "text/plain": [
       "{'type': 'generals', 'country': 'Pakistan'}"
      ]
     },
     "execution_count": 171,
     "metadata": {},
     "output_type": "execute_result"
    }
   ],
   "source": [
    "root.attrib"
   ]
  },
  {
   "cell_type": "code",
   "execution_count": 172,
   "metadata": {},
   "outputs": [
    {
     "name": "stdout",
     "output_type": "stream",
     "text": [
      "book {'category': 'cooking'}\n",
      "book {'category': 'children'}\n",
      "book {'category': 'web'}\n",
      "book {'category': 'web', 'cover': 'paperback'}\n"
     ]
    }
   ],
   "source": [
    "for child in root:\n",
    "    print(child.tag, child.attrib)"
   ]
  },
  {
   "cell_type": "code",
   "execution_count": 173,
   "metadata": {},
   "outputs": [
    {
     "data": {
      "text/plain": [
       "['bookstore',\n",
       " 'book',\n",
       " 'title',\n",
       " 'author',\n",
       " 'year',\n",
       " 'price',\n",
       " 'book',\n",
       " 'title',\n",
       " 'author',\n",
       " 'year',\n",
       " 'price',\n",
       " 'book',\n",
       " 'title',\n",
       " 'author',\n",
       " 'author',\n",
       " 'author',\n",
       " 'author',\n",
       " 'author',\n",
       " 'year',\n",
       " 'price',\n",
       " 'book',\n",
       " 'title',\n",
       " 'author',\n",
       " 'year',\n",
       " 'price']"
      ]
     },
     "execution_count": 173,
     "metadata": {},
     "output_type": "execute_result"
    }
   ],
   "source": [
    "[elem.tag for elem in root.iter()]"
   ]
  },
  {
   "cell_type": "code",
   "execution_count": 176,
   "metadata": {},
   "outputs": [
    {
     "name": "stdout",
     "output_type": "stream",
     "text": [
      "b'<bookstore country=\"Pakistan\" type=\"generals\">\\n\\n  <book category=\"cooking\">\\n    <title lang=\"en\">Everyday Italian</title>\\n    <author>Giada De Laurentiis</author>\\n    <year>2005</year>\\n    <price>30.00</price>\\n  </book>\\n\\n  <book category=\"children\">\\n    <title lang=\"en\">Harry Potter</title>\\n    <author>J K. Rowling</author>\\n    <year>2005</year>\\n    <price>29.99</price>\\n  </book>\\n\\n  <book category=\"web\">\\n    <title lang=\"en\">XQuery Kick Start</title>\\n    <author>James McGovern</author>\\n    <author>Per Bothner</author>\\n    <author>Kurt Cagle</author>\\n    <author>James Linn</author>\\n    <author>Vaidyanathan Nagarajan</author>\\n    <year>2003</year>\\n    <price>49.99</price>\\n  </book>\\n\\n  <book category=\"web\" cover=\"paperback\">\\n    <title lang=\"en\">Learning XML</title>\\n    <author>Erik T. Ray</author>\\n    <year>2003</year>\\n    <price>39.95</price>\\n  </book>\\n\\n</bookstore>'\n"
     ]
    }
   ],
   "source": [
    "print(ET.tostring(root))"
   ]
  },
  {
   "cell_type": "code",
   "execution_count": 177,
   "metadata": {},
   "outputs": [
    {
     "name": "stdout",
     "output_type": "stream",
     "text": [
      "<?xml version='1.0' encoding='utf8'?>\n",
      "<bookstore country=\"Pakistan\" type=\"generals\">\n",
      "\n",
      "  <book category=\"cooking\">\n",
      "    <title lang=\"en\">Everyday Italian</title>\n",
      "    <author>Giada De Laurentiis</author>\n",
      "    <year>2005</year>\n",
      "    <price>30.00</price>\n",
      "  </book>\n",
      "\n",
      "  <book category=\"children\">\n",
      "    <title lang=\"en\">Harry Potter</title>\n",
      "    <author>J K. Rowling</author>\n",
      "    <year>2005</year>\n",
      "    <price>29.99</price>\n",
      "  </book>\n",
      "\n",
      "  <book category=\"web\">\n",
      "    <title lang=\"en\">XQuery Kick Start</title>\n",
      "    <author>James McGovern</author>\n",
      "    <author>Per Bothner</author>\n",
      "    <author>Kurt Cagle</author>\n",
      "    <author>James Linn</author>\n",
      "    <author>Vaidyanathan Nagarajan</author>\n",
      "    <year>2003</year>\n",
      "    <price>49.99</price>\n",
      "  </book>\n",
      "\n",
      "  <book category=\"web\" cover=\"paperback\">\n",
      "    <title lang=\"en\">Learning XML</title>\n",
      "    <author>Erik T. Ray</author>\n",
      "    <year>2003</year>\n",
      "    <price>39.95</price>\n",
      "  </book>\n",
      "\n",
      "</bookstore>\n"
     ]
    }
   ],
   "source": [
    "print(ET.tostring(root, encoding='utf8').decode('utf8'))"
   ]
  },
  {
   "cell_type": "code",
   "execution_count": 179,
   "metadata": {},
   "outputs": [
    {
     "name": "stdout",
     "output_type": "stream",
     "text": [
      "{'category': 'cooking'}\n",
      "{'category': 'children'}\n",
      "{'category': 'web'}\n",
      "{'category': 'web', 'cover': 'paperback'}\n"
     ]
    }
   ],
   "source": [
    "for book in root.iter('book'):\n",
    "    print(book.attrib)"
   ]
  },
  {
   "cell_type": "code",
   "execution_count": 181,
   "metadata": {},
   "outputs": [
    {
     "name": "stdout",
     "output_type": "stream",
     "text": [
      "Everyday Italian\n",
      "Harry Potter\n",
      "XQuery Kick Start\n",
      "Learning XML\n"
     ]
    }
   ],
   "source": [
    "for description in root.iter('title'):\n",
    "    print(description.text)"
   ]
  },
  {
   "cell_type": "code",
   "execution_count": 183,
   "metadata": {},
   "outputs": [
    {
     "name": "stdout",
     "output_type": "stream",
     "text": [
      "Giada De Laurentiis\n",
      "J K. Rowling\n",
      "James McGovern\n",
      "Per Bothner\n",
      "Kurt Cagle\n",
      "James Linn\n",
      "Vaidyanathan Nagarajan\n",
      "Erik T. Ray\n"
     ]
    }
   ],
   "source": [
    "for author in root.iter('author'):\n",
    "    print(author.text)"
   ]
  },
  {
   "cell_type": "code",
   "execution_count": 184,
   "metadata": {},
   "outputs": [
    {
     "name": "stdout",
     "output_type": "stream",
     "text": [
      "2005\n",
      "2005\n",
      "2003\n",
      "2003\n"
     ]
    }
   ],
   "source": [
    "for year in root.iter('year'):\n",
    "    print(year.text)"
   ]
  },
  {
   "cell_type": "code",
   "execution_count": 186,
   "metadata": {},
   "outputs": [
    {
     "name": "stdout",
     "output_type": "stream",
     "text": [
      "{'category': 'cooking'}\n"
     ]
    }
   ],
   "source": [
    "# XPath Expressions\n",
    "for book in root.findall(\"./book[1]\"):\n",
    "    print(book.attrib)"
   ]
  },
  {
   "cell_type": "code",
   "execution_count": 187,
   "metadata": {},
   "outputs": [
    {
     "name": "stdout",
     "output_type": "stream",
     "text": [
      "{'category': 'children'}\n"
     ]
    }
   ],
   "source": [
    "for book in root.findall(\"./book[2]\"):\n",
    "    print(book.attrib)"
   ]
  },
  {
   "cell_type": "code",
   "execution_count": 189,
   "metadata": {},
   "outputs": [
    {
     "name": "stdout",
     "output_type": "stream",
     "text": [
      "Harry Potter\n"
     ]
    }
   ],
   "source": [
    "for title in root.findall(\"./book[2]/title\"):\n",
    "    print(title.text)"
   ]
  },
  {
   "cell_type": "code",
   "execution_count": 188,
   "metadata": {},
   "outputs": [
    {
     "name": "stdout",
     "output_type": "stream",
     "text": [
      "{'category': 'web', 'cover': 'paperback'}\n"
     ]
    }
   ],
   "source": [
    "for book in root.findall(\"./book[last()]\"):\n",
    "    print(book.attrib)"
   ]
  },
  {
   "cell_type": "code",
   "execution_count": null,
   "metadata": {},
   "outputs": [],
   "source": [
    "for book in root.findall(\"./book[last()-1]\"):\n",
    "    print(book.attrib)"
   ]
  },
  {
   "cell_type": "code",
   "execution_count": 193,
   "metadata": {},
   "outputs": [
    {
     "name": "stdout",
     "output_type": "stream",
     "text": [
      "{'category': 'cooking'}\n",
      "{'category': 'children'}\n"
     ]
    }
   ],
   "source": [
    "for book in root.findall(\"./book/[year='2005']\"):\n",
    "    print(book.attrib)"
   ]
  },
  {
   "cell_type": "code",
   "execution_count": 194,
   "metadata": {},
   "outputs": [
    {
     "name": "stdout",
     "output_type": "stream",
     "text": [
      "{'category': 'web'}\n",
      "{'category': 'web', 'cover': 'paperback'}\n"
     ]
    }
   ],
   "source": [
    "for book in root.findall(\"./book/[year='2003']\"):\n",
    "    print(book.attrib)"
   ]
  },
  {
   "cell_type": "markdown",
   "metadata": {},
   "source": [
    "### MOVIE.XML"
   ]
  },
  {
   "cell_type": "code",
   "execution_count": 195,
   "metadata": {},
   "outputs": [],
   "source": [
    "tree = ET.parse('xml-files/movies.xml')\n",
    "root = tree.getroot()"
   ]
  },
  {
   "cell_type": "code",
   "execution_count": 196,
   "metadata": {},
   "outputs": [
    {
     "data": {
      "text/plain": [
       "'collection'"
      ]
     },
     "execution_count": 196,
     "metadata": {},
     "output_type": "execute_result"
    }
   ],
   "source": [
    "root.tag"
   ]
  },
  {
   "cell_type": "code",
   "execution_count": 197,
   "metadata": {},
   "outputs": [
    {
     "data": {
      "text/plain": [
       "{}"
      ]
     },
     "execution_count": 197,
     "metadata": {},
     "output_type": "execute_result"
    }
   ],
   "source": [
    "root.attrib"
   ]
  },
  {
   "cell_type": "code",
   "execution_count": 198,
   "metadata": {},
   "outputs": [
    {
     "name": "stdout",
     "output_type": "stream",
     "text": [
      "genre {'category': 'Action'}\n",
      "genre {'category': 'Thriller'}\n",
      "genre {'category': 'Comedy'}\n"
     ]
    }
   ],
   "source": [
    "for child in root:\n",
    "    print(child.tag, child.attrib)"
   ]
  },
  {
   "cell_type": "code",
   "execution_count": 199,
   "metadata": {},
   "outputs": [
    {
     "data": {
      "text/plain": [
       "['collection',\n",
       " 'genre',\n",
       " 'decade',\n",
       " 'movie',\n",
       " 'format',\n",
       " 'year',\n",
       " 'rating',\n",
       " 'description',\n",
       " 'movie',\n",
       " 'format',\n",
       " 'year',\n",
       " 'rating',\n",
       " 'description',\n",
       " 'movie',\n",
       " 'format',\n",
       " 'year',\n",
       " 'rating',\n",
       " 'description',\n",
       " 'decade',\n",
       " 'movie',\n",
       " 'format',\n",
       " 'year',\n",
       " 'rating',\n",
       " 'description',\n",
       " 'movie',\n",
       " 'format',\n",
       " 'year',\n",
       " 'rating',\n",
       " 'description',\n",
       " 'movie',\n",
       " 'format',\n",
       " 'year',\n",
       " 'rating',\n",
       " 'description',\n",
       " 'genre',\n",
       " 'decade',\n",
       " 'movie',\n",
       " 'format',\n",
       " 'year',\n",
       " 'rating',\n",
       " 'description',\n",
       " 'decade',\n",
       " 'movie',\n",
       " 'format',\n",
       " 'year',\n",
       " 'rating',\n",
       " 'description',\n",
       " 'movie',\n",
       " 'format',\n",
       " 'year',\n",
       " 'rating',\n",
       " 'description',\n",
       " 'genre',\n",
       " 'decade',\n",
       " 'movie',\n",
       " 'format',\n",
       " 'year',\n",
       " 'rating',\n",
       " 'description',\n",
       " 'decade',\n",
       " 'movie',\n",
       " 'format',\n",
       " 'year',\n",
       " 'rating',\n",
       " 'description',\n",
       " 'movie',\n",
       " 'format',\n",
       " 'year',\n",
       " 'rating',\n",
       " 'description',\n",
       " 'decade',\n",
       " 'movie',\n",
       " 'format',\n",
       " 'year',\n",
       " 'rating',\n",
       " 'description',\n",
       " 'decade',\n",
       " 'movie',\n",
       " 'format',\n",
       " 'year',\n",
       " 'rating',\n",
       " 'description']"
      ]
     },
     "execution_count": 199,
     "metadata": {},
     "output_type": "execute_result"
    }
   ],
   "source": [
    "[elem.tag for elem in root.iter()]"
   ]
  },
  {
   "cell_type": "code",
   "execution_count": 200,
   "metadata": {},
   "outputs": [
    {
     "name": "stdout",
     "output_type": "stream",
     "text": [
      "<?xml version='1.0' encoding='utf8'?>\n",
      "<collection>\n",
      "    <genre category=\"Action\">\n",
      "        <decade years=\"1980s\">\n",
      "            <movie favorite=\"True\" title=\"Indiana Jones: The raiders of the lost Ark\">\n",
      "                <format multiple=\"No\">DVD</format>\n",
      "                <year>1981</year>\n",
      "                <rating>PG</rating>\n",
      "                <description>\n",
      "                Archaeologist and adventurer Indiana Jones \n",
      "                is hired by the U.S. government to find the Ark of the \n",
      "                Covenant before the Nazis.\n",
      "                </description>\n",
      "            </movie>\n",
      "               <movie favorite=\"True\" title=\"THE KARATE KID\">\n",
      "               <format multiple=\"Yes\">DVD,Online</format>\n",
      "               <year>1984</year>\n",
      "               <rating>PG</rating>\n",
      "               <description>None provided.</description>\n",
      "            </movie>\n",
      "            <movie favorite=\"False\" title=\"Back 2 the Future\">\n",
      "               <format multiple=\"False\">Blu-ray</format>\n",
      "               <year>1985</year>\n",
      "               <rating>PG</rating>\n",
      "               <description>Marty McFly</description>\n",
      "            </movie>\n",
      "        </decade>\n",
      "        <decade years=\"1990s\">\n",
      "            <movie favorite=\"False\" title=\"X-Men\">\n",
      "               <format multiple=\"Yes\">dvd, digital</format>\n",
      "               <year>2000</year>\n",
      "               <rating>PG-13</rating>\n",
      "               <description>Two mutants come to a private academy for their kind whose resident superhero team must \n",
      "               oppose a terrorist organization with similar powers.</description>\n",
      "            </movie>\n",
      "            <movie favorite=\"True\" title=\"Batman Returns\">\n",
      "               <format multiple=\"No\">VHS</format>\n",
      "               <year>1992</year>\n",
      "               <rating>PG13</rating>\n",
      "               <description>NA.</description>\n",
      "            </movie>\n",
      "               <movie favorite=\"False\" title=\"Reservoir Dogs\">\n",
      "               <format multiple=\"No\">Online</format>\n",
      "               <year>1992</year>\n",
      "               <rating>R</rating>\n",
      "               <description>WhAtEvER I Want!!!?!</description>\n",
      "            </movie>\n",
      "        </decade>    \n",
      "    </genre>\n",
      "    <genre category=\"Thriller\">\n",
      "        <decade years=\"1970s\">\n",
      "            <movie favorite=\"False\" title=\"ALIEN\">\n",
      "                <format multiple=\"Yes\">DVD</format>\n",
      "                <year>1979</year>\n",
      "                <rating>R</rating>\n",
      "                <description>\"\"\"\"\"\"\"\"\"</description>\n",
      "            </movie>\n",
      "        </decade>\n",
      "        <decade years=\"1980s\">\n",
      "            <movie favorite=\"True\" title=\"Ferris Bueller's Day Off\">\n",
      "                <format multiple=\"No\">DVD</format>\n",
      "                <year>1986</year>\n",
      "                <rating>PG13</rating>\n",
      "                <description>Funny movie about a funny guy</description>\n",
      "            </movie>\n",
      "            <movie favorite=\"FALSE\" title=\"American Psycho\">\n",
      "                <format multiple=\"No\">blue-ray</format>\n",
      "                <year>2000</year>\n",
      "                <rating>Unrated</rating>\n",
      "                <description>psychopathic Bateman</description>\n",
      "            </movie>\n",
      "        </decade>\n",
      "    </genre>\n",
      "    <genre category=\"Comedy\">\n",
      "        <decade years=\"1960s\">\n",
      "            <movie favorite=\"False\" title=\"Batman: The Movie\">\n",
      "                <format multiple=\"Yes\">DVD,VHS</format>\n",
      "                <year>1966</year>\n",
      "                <rating>PG</rating>\n",
      "                <description>What a joke!</description>\n",
      "            </movie>\n",
      "        </decade>\n",
      "        <decade years=\"2010s\">\n",
      "            <movie favorite=\"True\" title=\"Easy A\">\n",
      "                <format multiple=\"No\">DVD</format>\n",
      "                <year>2010</year>\n",
      "                <rating>PG--13</rating>\n",
      "                <description>Emma Stone = Hester Prynne</description>\n",
      "            </movie>\n",
      "            <movie favorite=\"True\" title=\"Dinner for SCHMUCKS\">\n",
      "                <format multiple=\"Yes\">DVD,digital,Netflix</format>\n",
      "                <year>2011</year>\n",
      "                <rating>Unrated</rating>\n",
      "                <description>Tim (Rudd) is a rising executive\n",
      "                 who “succeeds” in finding the perfect guest, \n",
      "                 IRS employee Barry (Carell), for his boss’ monthly event, \n",
      "                 a so-called “dinner for idiots,” which offers certain \n",
      "                 advantages to the exec who shows up with the biggest buffoon.\n",
      "                 </description>\n",
      "            </movie>\n",
      "        </decade>\n",
      "        <decade years=\"1980s\">\n",
      "            <movie favorite=\"False\" title=\"Ghostbusters\">\n",
      "                <format multiple=\"No\">Online,VHS</format>\n",
      "                <year>1984</year>\n",
      "                <rating>PG</rating>\n",
      "                <description>Who ya gonna call?</description>\n",
      "            </movie>\n",
      "        </decade>\n",
      "        <decade years=\"1990s\">\n",
      "            <movie favorite=\"True\" title=\"Robin Hood: Prince of Thieves\">\n",
      "                <format multiple=\"No\">Blu_Ray</format>\n",
      "                <year>1991</year>\n",
      "                <rating>Unknown</rating>\n",
      "                <description>Robin Hood slaying</description>\n",
      "            </movie>\n",
      "        </decade>\n",
      "    </genre>\n",
      "</collection>\n"
     ]
    }
   ],
   "source": [
    "print(ET.tostring(root, encoding='utf8').decode('utf8'))"
   ]
  },
  {
   "cell_type": "code",
   "execution_count": 201,
   "metadata": {},
   "outputs": [
    {
     "name": "stdout",
     "output_type": "stream",
     "text": [
      "{'favorite': 'True', 'title': 'Indiana Jones: The raiders of the lost Ark'}\n",
      "{'favorite': 'True', 'title': 'THE KARATE KID'}\n",
      "{'favorite': 'False', 'title': 'Back 2 the Future'}\n",
      "{'favorite': 'False', 'title': 'X-Men'}\n",
      "{'favorite': 'True', 'title': 'Batman Returns'}\n",
      "{'favorite': 'False', 'title': 'Reservoir Dogs'}\n",
      "{'favorite': 'False', 'title': 'ALIEN'}\n",
      "{'favorite': 'True', 'title': \"Ferris Bueller's Day Off\"}\n",
      "{'favorite': 'FALSE', 'title': 'American Psycho'}\n",
      "{'favorite': 'False', 'title': 'Batman: The Movie'}\n",
      "{'favorite': 'True', 'title': 'Easy A'}\n",
      "{'favorite': 'True', 'title': 'Dinner for SCHMUCKS'}\n",
      "{'favorite': 'False', 'title': 'Ghostbusters'}\n",
      "{'favorite': 'True', 'title': 'Robin Hood: Prince of Thieves'}\n"
     ]
    }
   ],
   "source": [
    "for movie in root.iter('movie'):\n",
    "    print(movie.attrib)"
   ]
  },
  {
   "cell_type": "code",
   "execution_count": 202,
   "metadata": {},
   "outputs": [
    {
     "name": "stdout",
     "output_type": "stream",
     "text": [
      "\n",
      "                Archaeologist and adventurer Indiana Jones \n",
      "                is hired by the U.S. government to find the Ark of the \n",
      "                Covenant before the Nazis.\n",
      "                \n",
      "None provided.\n",
      "Marty McFly\n",
      "Two mutants come to a private academy for their kind whose resident superhero team must \n",
      "               oppose a terrorist organization with similar powers.\n",
      "NA.\n",
      "WhAtEvER I Want!!!?!\n",
      "\"\"\"\"\"\"\"\"\"\n",
      "Funny movie about a funny guy\n",
      "psychopathic Bateman\n",
      "What a joke!\n",
      "Emma Stone = Hester Prynne\n",
      "Tim (Rudd) is a rising executive\n",
      "                 who “succeeds” in finding the perfect guest, \n",
      "                 IRS employee Barry (Carell), for his boss’ monthly event, \n",
      "                 a so-called “dinner for idiots,” which offers certain \n",
      "                 advantages to the exec who shows up with the biggest buffoon.\n",
      "                 \n",
      "Who ya gonna call?\n",
      "Robin Hood slaying\n"
     ]
    }
   ],
   "source": [
    "for description in root.iter('description'):\n",
    "    print(description.text)"
   ]
  },
  {
   "cell_type": "code",
   "execution_count": 203,
   "metadata": {},
   "outputs": [
    {
     "name": "stdout",
     "output_type": "stream",
     "text": [
      "{'favorite': 'True', 'title': 'Batman Returns'}\n",
      "{'favorite': 'False', 'title': 'Reservoir Dogs'}\n"
     ]
    }
   ],
   "source": [
    "for movie in root.findall(\"./genre/decade/movie/[year='1992']\"):\n",
    "    print(movie.attrib)"
   ]
  },
  {
   "cell_type": "code",
   "execution_count": 204,
   "metadata": {},
   "outputs": [
    {
     "name": "stdout",
     "output_type": "stream",
     "text": [
      "{'multiple': 'Yes'}\n",
      "{'multiple': 'Yes'}\n",
      "{'multiple': 'Yes'}\n",
      "{'multiple': 'Yes'}\n",
      "{'multiple': 'Yes'}\n"
     ]
    }
   ],
   "source": [
    "for movie in root.findall(\"./genre/decade/movie/format/[@multiple='Yes']\"):\n",
    "    print(movie.attrib)"
   ]
  },
  {
   "cell_type": "code",
   "execution_count": 206,
   "metadata": {},
   "outputs": [
    {
     "name": "stdout",
     "output_type": "stream",
     "text": [
      "{'favorite': 'True', 'title': 'THE KARATE KID'}\n",
      "{'favorite': 'False', 'title': 'X-Men'}\n",
      "{'favorite': 'False', 'title': 'ALIEN'}\n",
      "{'favorite': 'False', 'title': 'Batman: The Movie'}\n",
      "{'favorite': 'True', 'title': 'Dinner for SCHMUCKS'}\n"
     ]
    }
   ],
   "source": [
    "for movie in root.findall(\"./genre/decade/movie/format[@multiple='Yes']...\"):\n",
    "    print(movie.attrib)"
   ]
  },
  {
   "cell_type": "markdown",
   "metadata": {},
   "source": [
    "## XML SCHEMA VALIDATION using XSD"
   ]
  },
  {
   "cell_type": "code",
   "execution_count": 212,
   "metadata": {
    "scrolled": true
   },
   "outputs": [
    {
     "name": "stdout",
     "output_type": "stream",
     "text": [
      "True\n"
     ]
    }
   ],
   "source": [
    "import lxml.etree as ET\n",
    "\n",
    "xml_file = ET.parse(\"xml-files/example1.xml\")\n",
    "xml_validator = ET.XMLSchema(file=\"xml-files/example1.xsd\")\n",
    "\n",
    "is_valid = xml_validator.validate(xml_file)\n",
    "\n",
    "print(is_valid)"
   ]
  },
  {
   "cell_type": "code",
   "execution_count": 214,
   "metadata": {},
   "outputs": [
    {
     "name": "stdout",
     "output_type": "stream",
     "text": [
      "True\n"
     ]
    }
   ],
   "source": [
    "import lxml.etree as ET\n",
    "\n",
    "xml_file = ET.parse(\"xml-files/example2.xml\")\n",
    "xml_validator = ET.XMLSchema(file=\"xml-files/example2.xsd\")\n",
    "\n",
    "is_valid = xml_validator.validate(xml_file)\n",
    "\n",
    "print(is_valid)"
   ]
  },
  {
   "cell_type": "code",
   "execution_count": 218,
   "metadata": {},
   "outputs": [
    {
     "name": "stdout",
     "output_type": "stream",
     "text": [
      "False\n"
     ]
    }
   ],
   "source": [
    "import lxml.etree as ET\n",
    "\n",
    "xml_file = ET.parse(\"xml-files/example3.xml\")\n",
    "xml_validator = ET.XMLSchema(file=\"xml-files/example3.xsd\")\n",
    "\n",
    "is_valid = xml_validator.validate(xml_file)\n",
    "\n",
    "print(is_valid)"
   ]
  },
  {
   "cell_type": "markdown",
   "metadata": {},
   "source": [
    "## XLST\n",
    "### Extensible Stylesheet Language Transformation"
   ]
  },
  {
   "cell_type": "code",
   "execution_count": 219,
   "metadata": {},
   "outputs": [
    {
     "name": "stdout",
     "output_type": "stream",
     "text": [
      "b'<html><body><h2>Authors</h2><table border=\"1\"><tr bgcolor=\"#9acd32\"><th style=\"text-align:left\">First Name</th><th style=\"text-align:left\">Last Name</th></tr><tr><td>Jason</td><td>Edelman</td></tr><tr><td>Scott</td><td>Lowe</td></tr><tr><td>Matt</td><td>Oswalt</td></tr></table></body></html>'\n"
     ]
    }
   ],
   "source": [
    "import lxml.etree as ET\n",
    "\n",
    "dom = ET.parse(\"xml-files/example4.xml\")\n",
    "xslt = ET.parse(\"xml-files/example4.xsl\")\n",
    "transform = ET.XSLT(xslt)\n",
    "newdom = transform(dom)\n",
    "html = ET.tostring(newdom)\n",
    "print(html)"
   ]
  },
  {
   "cell_type": "code",
   "execution_count": null,
   "metadata": {},
   "outputs": [],
   "source": [
    "import lxml.etree as ET\n",
    "\n",
    "dom = ET.parse(\"xml-files/example4.xml\")\n",
    "xslt = ET.parse(\"xml-files/example4.xsl\")\n",
    "transform = ET.XSLT(xslt)\n",
    "newdom = transform(dom)\n",
    "html = ET.tostring(newdom,Indent=True)\n",
    "print(html)"
   ]
  },
  {
   "cell_type": "code",
   "execution_count": null,
   "metadata": {},
   "outputs": [],
   "source": [
    "import lxml.etree as ET\n",
    "\n",
    "dom = ET.parse(\"xml-files/example5.xml\")\n",
    "xslt = ET.parse(\"xml-files/example5.xsl\")\n",
    "transform = ET.XSLT(xslt)\n",
    "newdom = transform(dom)\n",
    "print(ET.tostring(newdom))"
   ]
  },
  {
   "cell_type": "code",
   "execution_count": null,
   "metadata": {},
   "outputs": [],
   "source": [
    "import lxml.etree as ET\n",
    "\n",
    "dom = ET.parse(\"xml-files/cdcatlog.xml\")\n",
    "xslt = ET.parse(\"xml-files/cdcatlog1.xsl\")\n",
    "transform = ET.XSLT(xslt)\n",
    "newdom = transform(dom)\n",
    "print(ET.tostring(newdom))"
   ]
  },
  {
   "cell_type": "code",
   "execution_count": null,
   "metadata": {},
   "outputs": [],
   "source": [
    "import lxml.etree as ET\n",
    "\n",
    "dom = ET.parse(\"xml-files/cdcatlog.xml\")\n",
    "xslt = ET.parse(\"xml-files/cdcatlog2.xsl\")\n",
    "transform = ET.XSLT(xslt)\n",
    "newdom = transform(dom)\n",
    "print(ET.tostring(newdom))"
   ]
  },
  {
   "cell_type": "code",
   "execution_count": null,
   "metadata": {},
   "outputs": [],
   "source": [
    "import lxml.etree as ET\n",
    "\n",
    "dom = ET.parse(\"xml-files/cdcatlog.xml\")\n",
    "xslt = ET.parse(\"xml-files/cdcatlog3.xsl\")\n",
    "transform = ET.XSLT(xslt)\n",
    "newdom = transform(dom)\n",
    "print(ET.tostring(newdom))"
   ]
  },
  {
   "cell_type": "markdown",
   "metadata": {},
   "source": [
    "## JSON"
   ]
  },
  {
   "cell_type": "code",
   "execution_count": null,
   "metadata": {},
   "outputs": [],
   "source": [
    "import json\n",
    "\n",
    "with open(\"json-files/example1.json\") as f:\n",
    "    data = f.read()\n",
    "    json_dict = json.loads(data)\n",
    "\n",
    "#print(\"The JSON document is loaded as type {0}\\n\".format(type(json_dict)))\n",
    "#print(\"Now printing each item in this document and the type it contains\")\n",
    "#for k, v in json_dict.items():\n",
    "#print(\n",
    "#\"-- The key {0} contains a {1} value.\".format(str(k), str(type(v)))\n",
    "#)"
   ]
  },
  {
   "cell_type": "code",
   "execution_count": null,
   "metadata": {},
   "outputs": [],
   "source": [
    "json_dict"
   ]
  },
  {
   "cell_type": "code",
   "execution_count": null,
   "metadata": {},
   "outputs": [],
   "source": [
    "json_dict['authors']"
   ]
  },
  {
   "cell_type": "code",
   "execution_count": null,
   "metadata": {},
   "outputs": [],
   "source": [
    "json_dict['authors'][0]"
   ]
  },
  {
   "cell_type": "code",
   "execution_count": null,
   "metadata": {},
   "outputs": [],
   "source": [
    "for k, v in json_dict.items():\n",
    "    for i in v:\n",
    "        print(i)"
   ]
  },
  {
   "cell_type": "code",
   "execution_count": null,
   "metadata": {},
   "outputs": [],
   "source": []
  }
 ],
 "metadata": {
  "kernelspec": {
   "display_name": "Python 3",
   "language": "python",
   "name": "python3"
  },
  "language_info": {
   "codemirror_mode": {
    "name": "ipython",
    "version": 3
   },
   "file_extension": ".py",
   "mimetype": "text/x-python",
   "name": "python",
   "nbconvert_exporter": "python",
   "pygments_lexer": "ipython3",
   "version": "3.7.6"
  }
 },
 "nbformat": 4,
 "nbformat_minor": 4
}
