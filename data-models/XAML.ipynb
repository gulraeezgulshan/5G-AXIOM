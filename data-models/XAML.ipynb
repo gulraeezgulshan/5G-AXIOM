{
 "cells": [
  {
   "cell_type": "code",
   "execution_count": 4,
   "metadata": {},
   "outputs": [],
   "source": [
    "import xml.etree.ElementTree as ET"
   ]
  },
  {
   "cell_type": "code",
   "execution_count": 17,
   "metadata": {},
   "outputs": [],
   "source": [
    "tree = ET.parse('xml-files/books.xml')\n",
    "root = tree.getroot()"
   ]
  },
  {
   "cell_type": "code",
   "execution_count": 9,
   "metadata": {},
   "outputs": [
    {
     "data": {
      "text/plain": [
       "<Element 'breakfast_menu' at 0x7f2a6c2bc2f0>"
      ]
     },
     "execution_count": 9,
     "metadata": {},
     "output_type": "execute_result"
    }
   ],
   "source": [
    "root"
   ]
  },
  {
   "cell_type": "code",
   "execution_count": 18,
   "metadata": {},
   "outputs": [
    {
     "data": {
      "text/plain": [
       "'bookstore'"
      ]
     },
     "execution_count": 18,
     "metadata": {},
     "output_type": "execute_result"
    }
   ],
   "source": [
    "root.tag"
   ]
  },
  {
   "cell_type": "code",
   "execution_count": 19,
   "metadata": {},
   "outputs": [
    {
     "data": {
      "text/plain": [
       "{}"
      ]
     },
     "execution_count": 19,
     "metadata": {},
     "output_type": "execute_result"
    }
   ],
   "source": [
    "root.attrib"
   ]
  },
  {
   "cell_type": "code",
   "execution_count": 25,
   "metadata": {},
   "outputs": [
    {
     "name": "stdout",
     "output_type": "stream",
     "text": [
      "book {'category': 'cooking'}\n",
      "book {'category': 'children'}\n",
      "book {'category': 'web'}\n",
      "book {'category': 'web', 'cover': 'paperback'}\n"
     ]
    }
   ],
   "source": [
    "for child in root:\n",
    "    print(child.tag, child.attrib)"
   ]
  },
  {
   "cell_type": "code",
   "execution_count": 21,
   "metadata": {},
   "outputs": [
    {
     "data": {
      "text/plain": [
       "['bookstore',\n",
       " 'book',\n",
       " 'title',\n",
       " 'author',\n",
       " 'year',\n",
       " 'price',\n",
       " 'book',\n",
       " 'title',\n",
       " 'author',\n",
       " 'year',\n",
       " 'price',\n",
       " 'book',\n",
       " 'title',\n",
       " 'author',\n",
       " 'author',\n",
       " 'author',\n",
       " 'author',\n",
       " 'author',\n",
       " 'year',\n",
       " 'price',\n",
       " 'book',\n",
       " 'title',\n",
       " 'author',\n",
       " 'year',\n",
       " 'price']"
      ]
     },
     "execution_count": 21,
     "metadata": {},
     "output_type": "execute_result"
    }
   ],
   "source": [
    "[elem.tag for elem in root.iter()]"
   ]
  },
  {
   "cell_type": "code",
   "execution_count": 22,
   "metadata": {},
   "outputs": [
    {
     "name": "stdout",
     "output_type": "stream",
     "text": [
      "<?xml version='1.0' encoding='utf8'?>\n",
      "<bookstore>\n",
      "\n",
      "  <book category=\"cooking\">\n",
      "    <title lang=\"en\">Everyday Italian</title>\n",
      "    <author>Giada De Laurentiis</author>\n",
      "    <year>2005</year>\n",
      "    <price>30.00</price>\n",
      "  </book>\n",
      "\n",
      "  <book category=\"children\">\n",
      "    <title lang=\"en\">Harry Potter</title>\n",
      "    <author>J K. Rowling</author>\n",
      "    <year>2005</year>\n",
      "    <price>29.99</price>\n",
      "  </book>\n",
      "\n",
      "  <book category=\"web\">\n",
      "    <title lang=\"en\">XQuery Kick Start</title>\n",
      "    <author>James McGovern</author>\n",
      "    <author>Per Bothner</author>\n",
      "    <author>Kurt Cagle</author>\n",
      "    <author>James Linn</author>\n",
      "    <author>Vaidyanathan Nagarajan</author>\n",
      "    <year>2003</year>\n",
      "    <price>49.99</price>\n",
      "  </book>\n",
      "\n",
      "  <book category=\"web\" cover=\"paperback\">\n",
      "    <title lang=\"en\">Learning XML</title>\n",
      "    <author>Erik T. Ray</author>\n",
      "    <year>2003</year>\n",
      "    <price>39.95</price>\n",
      "  </book>\n",
      "\n",
      "</bookstore>\n"
     ]
    }
   ],
   "source": [
    "print(ET.tostring(root, encoding='utf8').decode('utf8'))"
   ]
  },
  {
   "cell_type": "code",
   "execution_count": 26,
   "metadata": {},
   "outputs": [
    {
     "name": "stdout",
     "output_type": "stream",
     "text": [
      "{'category': 'cooking'}\n",
      "{'category': 'children'}\n",
      "{'category': 'web'}\n",
      "{'category': 'web', 'cover': 'paperback'}\n"
     ]
    }
   ],
   "source": [
    "for movie in root.iter('book'):\n",
    "    print(movie.attrib)"
   ]
  },
  {
   "cell_type": "code",
   "execution_count": 27,
   "metadata": {},
   "outputs": [
    {
     "name": "stdout",
     "output_type": "stream",
     "text": [
      "Everyday Italian\n",
      "Harry Potter\n",
      "XQuery Kick Start\n",
      "Learning XML\n"
     ]
    }
   ],
   "source": [
    "for description in root.iter('title'):\n",
    "    print(description.text)"
   ]
  },
  {
   "cell_type": "code",
   "execution_count": 28,
   "metadata": {},
   "outputs": [
    {
     "name": "stdout",
     "output_type": "stream",
     "text": [
      "Giada De Laurentiis\n",
      "J K. Rowling\n",
      "James McGovern\n",
      "Per Bothner\n",
      "Kurt Cagle\n",
      "James Linn\n",
      "Vaidyanathan Nagarajan\n",
      "Erik T. Ray\n"
     ]
    }
   ],
   "source": [
    "for description in root.iter('author'):\n",
    "    print(description.text)"
   ]
  },
  {
   "cell_type": "code",
   "execution_count": 43,
   "metadata": {},
   "outputs": [
    {
     "name": "stdout",
     "output_type": "stream",
     "text": [
      "{'category': 'cooking'}\n"
     ]
    }
   ],
   "source": [
    "# XPath Expressions\n",
    "for book in root.findall(\"./book[1]\"):\n",
    "    print(book.attrib)"
   ]
  },
  {
   "cell_type": "code",
   "execution_count": 44,
   "metadata": {},
   "outputs": [
    {
     "name": "stdout",
     "output_type": "stream",
     "text": [
      "{'category': 'children'}\n"
     ]
    }
   ],
   "source": [
    "for book in root.findall(\"./book[2]\"):\n",
    "    print(book.attrib)"
   ]
  },
  {
   "cell_type": "code",
   "execution_count": 46,
   "metadata": {},
   "outputs": [
    {
     "name": "stdout",
     "output_type": "stream",
     "text": [
      "{'category': 'web', 'cover': 'paperback'}\n"
     ]
    }
   ],
   "source": [
    "for book in root.findall(\"./book[last()]\"):\n",
    "    print(book.attrib)"
   ]
  },
  {
   "cell_type": "code",
   "execution_count": 48,
   "metadata": {},
   "outputs": [
    {
     "name": "stdout",
     "output_type": "stream",
     "text": [
      "{'category': 'web'}\n"
     ]
    }
   ],
   "source": [
    "for book in root.findall(\"./book[last()-1]\"):\n",
    "    print(book.attrib)"
   ]
  },
  {
   "cell_type": "code",
   "execution_count": 62,
   "metadata": {},
   "outputs": [
    {
     "name": "stdout",
     "output_type": "stream",
     "text": [
      "{'category': 'web'}\n",
      "{'category': 'web', 'cover': 'paperback'}\n"
     ]
    }
   ],
   "source": [
    "for book in root.findall(\"./book/[year='2003']\"):\n",
    "    print(book.attrib)"
   ]
  },
  {
   "cell_type": "code",
   "execution_count": 64,
   "metadata": {},
   "outputs": [
    {
     "name": "stdout",
     "output_type": "stream",
     "text": [
      "{'category': 'web'}\n",
      "{'category': 'web', 'cover': 'paperback'}\n"
     ]
    }
   ],
   "source": [
    "for book in root.findall(\"./book/[year='2003']\"):\n",
    "    print(book.attrib)"
   ]
  },
  {
   "cell_type": "markdown",
   "metadata": {},
   "source": [
    "### MOVIE.XML"
   ]
  },
  {
   "cell_type": "code",
   "execution_count": 71,
   "metadata": {},
   "outputs": [],
   "source": [
    "tree = ET.parse('xml-files/movies.xml')\n",
    "root = tree.getroot()"
   ]
  },
  {
   "cell_type": "code",
   "execution_count": 72,
   "metadata": {},
   "outputs": [
    {
     "data": {
      "text/plain": [
       "'collection'"
      ]
     },
     "execution_count": 72,
     "metadata": {},
     "output_type": "execute_result"
    }
   ],
   "source": [
    "root.tag"
   ]
  },
  {
   "cell_type": "code",
   "execution_count": 73,
   "metadata": {},
   "outputs": [
    {
     "data": {
      "text/plain": [
       "{}"
      ]
     },
     "execution_count": 73,
     "metadata": {},
     "output_type": "execute_result"
    }
   ],
   "source": [
    "root.attrib"
   ]
  },
  {
   "cell_type": "code",
   "execution_count": 77,
   "metadata": {},
   "outputs": [
    {
     "name": "stdout",
     "output_type": "stream",
     "text": [
      "genre {'category': 'Action'}\n",
      "genre {'category': 'Thriller'}\n"
     ]
    }
   ],
   "source": [
    "for child in root:\n",
    "    print(child.tag, child.attrib)"
   ]
  },
  {
   "cell_type": "code",
   "execution_count": 78,
   "metadata": {},
   "outputs": [
    {
     "data": {
      "text/plain": [
       "['collection',\n",
       " 'genre',\n",
       " 'decade',\n",
       " 'movie',\n",
       " 'format',\n",
       " 'year',\n",
       " 'rating',\n",
       " 'description',\n",
       " 'movie',\n",
       " 'format',\n",
       " 'year',\n",
       " 'rating',\n",
       " 'description',\n",
       " 'movie',\n",
       " 'format',\n",
       " 'year',\n",
       " 'rating',\n",
       " 'description',\n",
       " 'decade',\n",
       " 'movie',\n",
       " 'format',\n",
       " 'year',\n",
       " 'rating',\n",
       " 'description',\n",
       " 'movie',\n",
       " 'format',\n",
       " 'year',\n",
       " 'rating',\n",
       " 'description',\n",
       " 'movie',\n",
       " 'format',\n",
       " 'year',\n",
       " 'rating',\n",
       " 'description',\n",
       " 'genre',\n",
       " 'decade',\n",
       " 'movie',\n",
       " 'format',\n",
       " 'year',\n",
       " 'rating',\n",
       " 'description',\n",
       " 'decade',\n",
       " 'movie',\n",
       " 'format',\n",
       " 'year',\n",
       " 'rating',\n",
       " 'description',\n",
       " 'movie',\n",
       " 'format',\n",
       " 'year',\n",
       " 'rating',\n",
       " 'description']"
      ]
     },
     "execution_count": 78,
     "metadata": {},
     "output_type": "execute_result"
    }
   ],
   "source": [
    "[elem.tag for elem in root.iter()]"
   ]
  },
  {
   "cell_type": "code",
   "execution_count": 79,
   "metadata": {},
   "outputs": [
    {
     "name": "stdout",
     "output_type": "stream",
     "text": [
      "<?xml version='1.0' encoding='utf8'?>\n",
      "<collection>\n",
      "    <genre category=\"Action\">\n",
      "        <decade years=\"1980s\">\n",
      "            <movie favorite=\"True\" title=\"Indiana Jones: The raiders of the lost Ark\">\n",
      "                <format multiple=\"No\">DVD</format>\n",
      "                <year>1981</year>\n",
      "                <rating>PG</rating>\n",
      "                <description>\n",
      "                Archaeologist and adventurer Indiana Jones \n",
      "                is hired by the U.S. government to find the Ark of the \n",
      "                Covenant before the Nazis.\n",
      "                </description>\n",
      "            </movie>\n",
      "               <movie favorite=\"True\" title=\"THE KARATE KID\">\n",
      "               <format multiple=\"Yes\">DVD,Online</format>\n",
      "               <year>1984</year>\n",
      "               <rating>PG</rating>\n",
      "               <description>None provided.</description>\n",
      "            </movie>\n",
      "            <movie favorite=\"False\" title=\"Back 2 the Future\">\n",
      "               <format multiple=\"False\">Blu-ray</format>\n",
      "               <year>1985</year>\n",
      "               <rating>PG</rating>\n",
      "               <description>Marty McFly</description>\n",
      "            </movie>\n",
      "        </decade>\n",
      "        <decade years=\"1990s\">\n",
      "            <movie favorite=\"False\" title=\"X-Men\">\n",
      "               <format multiple=\"Yes\">dvd, digital</format>\n",
      "               <year>2000</year>\n",
      "               <rating>PG-13</rating>\n",
      "               <description>Two mutants come to a private academy for their kind whose resident superhero team must \n",
      "               oppose a terrorist organization with similar powers.</description>\n",
      "            </movie>\n",
      "            <movie favorite=\"True\" title=\"Batman Returns\">\n",
      "               <format multiple=\"No\">VHS</format>\n",
      "               <year>1992</year>\n",
      "               <rating>PG13</rating>\n",
      "               <description>NA.</description>\n",
      "            </movie>\n",
      "               <movie favorite=\"False\" title=\"Reservoir Dogs\">\n",
      "               <format multiple=\"No\">Online</format>\n",
      "               <year>1992</year>\n",
      "               <rating>R</rating>\n",
      "               <description>WhAtEvER I Want!!!?!</description>\n",
      "            </movie>\n",
      "        </decade>    \n",
      "    </genre>\n",
      "    <genre category=\"Thriller\">\n",
      "        <decade years=\"1970s\">\n",
      "            <movie favorite=\"False\" title=\"ALIEN\">\n",
      "                <format multiple=\"Yes\">DVD</format>\n",
      "                <year>1979</year>\n",
      "                <rating>R</rating>\n",
      "                <description>\"\"\"\"\"\"\"\"\"</description>\n",
      "            </movie>\n",
      "        </decade>\n",
      "        <decade years=\"1980s\">\n",
      "            <movie favorite=\"True\" title=\"Ferris Bueller's Day Off\">\n",
      "                <format multiple=\"No\">DVD</format>\n",
      "                <year>1986</year>\n",
      "                <rating>PG13</rating>\n",
      "                <description>Funny movie about a funny guy</description>\n",
      "            </movie>\n",
      "            <movie favorite=\"FALSE\" title=\"American Psycho\">\n",
      "                <format multiple=\"No\">blue-ray</format>\n",
      "                <year>2000</year>\n",
      "                <rating>Unrated</rating>\n",
      "                <description>psychopathic Bateman</description>\n",
      "            </movie>\n",
      "        </decade>\n",
      "    </genre>\n",
      "</collection>\n"
     ]
    }
   ],
   "source": [
    "print(ET.tostring(root, encoding='utf8').decode('utf8'))"
   ]
  },
  {
   "cell_type": "code",
   "execution_count": 80,
   "metadata": {},
   "outputs": [
    {
     "name": "stdout",
     "output_type": "stream",
     "text": [
      "{'favorite': 'True', 'title': 'Indiana Jones: The raiders of the lost Ark'}\n",
      "{'favorite': 'True', 'title': 'THE KARATE KID'}\n",
      "{'favorite': 'False', 'title': 'Back 2 the Future'}\n",
      "{'favorite': 'False', 'title': 'X-Men'}\n",
      "{'favorite': 'True', 'title': 'Batman Returns'}\n",
      "{'favorite': 'False', 'title': 'Reservoir Dogs'}\n",
      "{'favorite': 'False', 'title': 'ALIEN'}\n",
      "{'favorite': 'True', 'title': \"Ferris Bueller's Day Off\"}\n",
      "{'favorite': 'FALSE', 'title': 'American Psycho'}\n"
     ]
    }
   ],
   "source": [
    "for movie in root.iter('movie'):\n",
    "    print(movie.attrib)"
   ]
  },
  {
   "cell_type": "code",
   "execution_count": 81,
   "metadata": {},
   "outputs": [
    {
     "name": "stdout",
     "output_type": "stream",
     "text": [
      "\n",
      "                Archaeologist and adventurer Indiana Jones \n",
      "                is hired by the U.S. government to find the Ark of the \n",
      "                Covenant before the Nazis.\n",
      "                \n",
      "None provided.\n",
      "Marty McFly\n",
      "Two mutants come to a private academy for their kind whose resident superhero team must \n",
      "               oppose a terrorist organization with similar powers.\n",
      "NA.\n",
      "WhAtEvER I Want!!!?!\n",
      "\"\"\"\"\"\"\"\"\"\n",
      "Funny movie about a funny guy\n",
      "psychopathic Bateman\n"
     ]
    }
   ],
   "source": [
    "for description in root.iter('description'):\n",
    "    print(description.text)"
   ]
  },
  {
   "cell_type": "code",
   "execution_count": 82,
   "metadata": {},
   "outputs": [
    {
     "name": "stdout",
     "output_type": "stream",
     "text": [
      "{'favorite': 'True', 'title': 'Batman Returns'}\n",
      "{'favorite': 'False', 'title': 'Reservoir Dogs'}\n"
     ]
    }
   ],
   "source": [
    "for movie in root.findall(\"./genre/decade/movie/[year='1992']\"):\n",
    "    print(movie.attrib)"
   ]
  },
  {
   "cell_type": "code",
   "execution_count": 83,
   "metadata": {},
   "outputs": [
    {
     "name": "stdout",
     "output_type": "stream",
     "text": [
      "{'multiple': 'Yes'}\n",
      "{'multiple': 'Yes'}\n",
      "{'multiple': 'Yes'}\n"
     ]
    }
   ],
   "source": [
    "for movie in root.findall(\"./genre/decade/movie/format/[@multiple='Yes']\"):\n",
    "    print(movie.attrib)"
   ]
  },
  {
   "cell_type": "code",
   "execution_count": 84,
   "metadata": {},
   "outputs": [
    {
     "name": "stdout",
     "output_type": "stream",
     "text": [
      "{'favorite': 'True', 'title': 'THE KARATE KID'}\n",
      "{'favorite': 'False', 'title': 'X-Men'}\n",
      "{'favorite': 'False', 'title': 'ALIEN'}\n"
     ]
    }
   ],
   "source": [
    "for movie in root.findall(\"./genre/decade/movie/format[@multiple='Yes']...\"):\n",
    "    print(movie.attrib)"
   ]
  },
  {
   "cell_type": "markdown",
   "metadata": {},
   "source": [
    "## XML SCHEMA VALIDATION using XSD"
   ]
  },
  {
   "cell_type": "code",
   "execution_count": 97,
   "metadata": {
    "scrolled": true
   },
   "outputs": [
    {
     "name": "stdout",
     "output_type": "stream",
     "text": [
      "True\n"
     ]
    }
   ],
   "source": [
    "import lxml.etree as ET\n",
    "\n",
    "xml_file = ET.parse(\"xml-files/example1.xml\")\n",
    "xml_validator = ET.XMLSchema(file=\"xml-files/example1.xsd\")\n",
    "\n",
    "is_valid = xml_validator.validate(xml_file)\n",
    "\n",
    "print(is_valid)"
   ]
  },
  {
   "cell_type": "code",
   "execution_count": 98,
   "metadata": {},
   "outputs": [
    {
     "name": "stdout",
     "output_type": "stream",
     "text": [
      "True\n"
     ]
    }
   ],
   "source": [
    "import lxml.etree as ET\n",
    "\n",
    "xml_file = ET.parse(\"xml-files/example2.xml\")\n",
    "xml_validator = ET.XMLSchema(file=\"xml-files/example2.xsd\")\n",
    "\n",
    "is_valid = xml_validator.validate(xml_file)\n",
    "\n",
    "print(is_valid)"
   ]
  },
  {
   "cell_type": "code",
   "execution_count": 106,
   "metadata": {},
   "outputs": [
    {
     "name": "stdout",
     "output_type": "stream",
     "text": [
      "True\n"
     ]
    }
   ],
   "source": [
    "import lxml.etree as ET\n",
    "\n",
    "xml_file = ET.parse(\"xml-files/example3.xml\")\n",
    "xml_validator = ET.XMLSchema(file=\"xml-files/example3.xsd\")\n",
    "\n",
    "is_valid = xml_validator.validate(xml_file)\n",
    "\n",
    "print(is_valid)"
   ]
  },
  {
   "cell_type": "markdown",
   "metadata": {},
   "source": [
    "## XLST"
   ]
  },
  {
   "cell_type": "code",
   "execution_count": 131,
   "metadata": {},
   "outputs": [
    {
     "name": "stdout",
     "output_type": "stream",
     "text": [
      "b'<html><body><h2>Authors</h2><table border=\"1\"><tr bgcolor=\"#9acd32\"><th style=\"text-align:left\">First Name</th><th style=\"text-align:left\">Last Name</th></tr><tr><td>Jason</td><td>Edelman</td></tr><tr><td>Scott</td><td>Lowe</td></tr><tr><td>Matt</td><td>Oswalt</td></tr></table></body></html>'\n"
     ]
    }
   ],
   "source": [
    "import lxml.etree as ET\n",
    "\n",
    "dom = ET.parse(\"xml-files/example4.xml\")\n",
    "xslt = ET.parse(\"xml-files/example4.xsl\")\n",
    "transform = ET.XSLT(xslt)\n",
    "newdom = transform(dom)\n",
    "html = ET.tostring(newdom)\n",
    "print(html)"
   ]
  },
  {
   "cell_type": "code",
   "execution_count": 130,
   "metadata": {},
   "outputs": [
    {
     "name": "stdout",
     "output_type": "stream",
     "text": [
      "b'<br/>\\n            ip address 192.168.0.1 255.255.255.0'\n"
     ]
    }
   ],
   "source": [
    "import lxml.etree as ET\n",
    "\n",
    "dom = ET.parse(\"xml-files/example5.xml\")\n",
    "xslt = ET.parse(\"xml-files/example5.xsl\")\n",
    "transform = ET.XSLT(xslt)\n",
    "newdom = transform(dom)\n",
    "print(ET.tostring(newdom))"
   ]
  },
  {
   "cell_type": "code",
   "execution_count": 133,
   "metadata": {},
   "outputs": [
    {
     "name": "stdout",
     "output_type": "stream",
     "text": [
      "b'<html><body><h2>My CD Collection</h2><table border=\"1\"><tr bgcolor=\"#9acd32\"><th>Title</th><th>Artist</th></tr><tr><td>Romanza</td><td>Andrea Bocelli</td></tr><tr><td>One night only</td><td>Bee Gees</td></tr><tr><td>Empire Burlesque</td><td>Bob Dylan</td></tr><tr><td>Hide your heart</td><td>Bonnie Tyler</td></tr><tr><td>The very best of</td><td>Cat Stevens</td></tr><tr><td>Greatest Hits</td><td>Dolly Parton</td></tr><tr><td>Sylvias Mother</td><td>Dr.Hook</td></tr><tr><td>Eros</td><td>Eros Ramazzotti</td></tr><tr><td>Still got the blues</td><td>Gary Moore</td></tr><tr><td>Unchain my heart</td><td>Joe Cocker</td></tr><tr><td>Soulsville</td><td>Jorn Hoel</td></tr><tr><td>For the good times</td><td>Kenny Rogers</td></tr><tr><td>Midt om natten</td><td>Kim Larsen</td></tr><tr><td>Pavarotti Gala Concert</td><td>Luciano Pavarotti</td></tr><tr><td>1999 Grammy Nominees</td><td>Many</td></tr><tr><td>The dock of the bay</td><td>Otis Redding</td></tr><tr><td>When a man loves a woman</td><td>Percy Sledge</td></tr><tr><td>Maggie May</td><td>Rod Stewart</td></tr><tr><td>Stop</td><td>Sam Brown</td></tr><tr><td>Black angel</td><td>Savage Rose</td></tr><tr><td>Picture book</td><td>Simply Red</td></tr><tr><td>Bridge of Spies</td><td>T`Pau</td></tr><tr><td>Red</td><td>The Communards</td></tr><tr><td>Private Dancer</td><td>Tina Turner</td></tr><tr><td>Tupelo Honey</td><td>Van Morrison</td></tr><tr><td>Big Willie style</td><td>Will Smith</td></tr></table></body></html>'\n"
     ]
    }
   ],
   "source": [
    "import lxml.etree as ET\n",
    "\n",
    "dom = ET.parse(\"xml-files/cdcatlog.xml\")\n",
    "xslt = ET.parse(\"xml-files/cdcatlog1.xsl\")\n",
    "transform = ET.XSLT(xslt)\n",
    "newdom = transform(dom)\n",
    "print(ET.tostring(newdom))"
   ]
  },
  {
   "cell_type": "code",
   "execution_count": 134,
   "metadata": {},
   "outputs": [
    {
     "name": "stdout",
     "output_type": "stream",
     "text": [
      "b'<html><body><h2>My CD Collection</h2><table border=\"1\"><tr bgcolor=\"#9acd32\"><th>Title</th><th>Artist</th><th>Price</th></tr><tr><td>Empire Burlesque</td><td>Bob Dylan</td><td>10.90</td></tr><tr><td>Still got the blues</td><td>Gary Moore</td><td>10.20</td></tr><tr><td>One night only</td><td>Bee Gees</td><td>10.90</td></tr><tr><td>Romanza</td><td>Andrea Bocelli</td><td>10.80</td></tr><tr><td>Black angel</td><td>Savage Rose</td><td>10.90</td></tr><tr><td>1999 Grammy Nominees</td><td>Many</td><td>10.20</td></tr></table></body></html>'\n"
     ]
    }
   ],
   "source": [
    "import lxml.etree as ET\n",
    "\n",
    "dom = ET.parse(\"xml-files/cdcatlog.xml\")\n",
    "xslt = ET.parse(\"xml-files/cdcatlog2.xsl\")\n",
    "transform = ET.XSLT(xslt)\n",
    "newdom = transform(dom)\n",
    "print(ET.tostring(newdom))"
   ]
  },
  {
   "cell_type": "code",
   "execution_count": 135,
   "metadata": {},
   "outputs": [
    {
     "name": "stdout",
     "output_type": "stream",
     "text": [
      "b'<html><body><h2>My CD Collection</h2><table border=\"1\"><tr bgcolor=\"#9acd32\"><th>Title</th><th>Artist</th></tr><tr><td>Empire Burlesque</td><td bgcolor=\"#ff00ff\">Bob Dylan</td></tr><tr><td>Hide your heart</td><td>Bonnie Tyler</td></tr><tr><td>Greatest Hits</td><td>Dolly Parton</td></tr><tr><td>Still got the blues</td><td bgcolor=\"#ff00ff\">Gary Moore</td></tr><tr><td>Eros</td><td>Eros Ramazzotti</td></tr><tr><td>One night only</td><td bgcolor=\"#ff00ff\">Bee Gees</td></tr><tr><td>Sylvias Mother</td><td>Dr.Hook</td></tr><tr><td>Maggie May</td><td>Rod Stewart</td></tr><tr><td>Romanza</td><td bgcolor=\"#ff00ff\">Andrea Bocelli</td></tr><tr><td>When a man loves a woman</td><td>Percy Sledge</td></tr><tr><td>Black angel</td><td bgcolor=\"#ff00ff\">Savage Rose</td></tr><tr><td>1999 Grammy Nominees</td><td bgcolor=\"#ff00ff\">Many</td></tr><tr><td>For the good times</td><td>Kenny Rogers</td></tr><tr><td>Big Willie style</td><td>Will Smith</td></tr><tr><td>Tupelo Honey</td><td>Van Morrison</td></tr><tr><td>Soulsville</td><td>Jorn Hoel</td></tr><tr><td>The very best of</td><td>Cat Stevens</td></tr><tr><td>Stop</td><td>Sam Brown</td></tr><tr><td>Bridge of Spies</td><td>T`Pau</td></tr><tr><td>Private Dancer</td><td>Tina Turner</td></tr><tr><td>Midt om natten</td><td>Kim Larsen</td></tr><tr><td>Pavarotti Gala Concert</td><td>Luciano Pavarotti</td></tr><tr><td>The dock of the bay</td><td>Otis Redding</td></tr><tr><td>Picture book</td><td>Simply Red</td></tr><tr><td>Red</td><td>The Communards</td></tr><tr><td>Unchain my heart</td><td>Joe Cocker</td></tr></table></body></html>'\n"
     ]
    }
   ],
   "source": [
    "import lxml.etree as ET\n",
    "\n",
    "dom = ET.parse(\"xml-files/cdcatlog.xml\")\n",
    "xslt = ET.parse(\"xml-files/cdcatlog3.xsl\")\n",
    "transform = ET.XSLT(xslt)\n",
    "newdom = transform(dom)\n",
    "print(ET.tostring(newdom))"
   ]
  },
  {
   "cell_type": "markdown",
   "metadata": {},
   "source": [
    "## JSON"
   ]
  },
  {
   "cell_type": "code",
   "execution_count": 137,
   "metadata": {},
   "outputs": [],
   "source": [
    "import json\n",
    "\n",
    "with open(\"json-files/example1.json\") as f:\n",
    "    data = f.read()\n",
    "    json_dict = json.loads(data)\n",
    "\n",
    "#print(\"The JSON document is loaded as type {0}\\n\".format(type(json_dict)))\n",
    "#print(\"Now printing each item in this document and the type it contains\")\n",
    "#for k, v in json_dict.items():\n",
    "#print(\n",
    "#\"-- The key {0} contains a {1} value.\".format(str(k), str(type(v)))\n",
    "#)"
   ]
  },
  {
   "cell_type": "code",
   "execution_count": 145,
   "metadata": {},
   "outputs": [
    {
     "data": {
      "text/plain": [
       "{'authors': [{'firstName': 'Jason', 'lastName': 'Edelman'},\n",
       "  {'firstName': 'Scott', 'lastName': 'Lowe'},\n",
       "  {'firstName': 'Matt', 'lastName': 'Oswalt'}]}"
      ]
     },
     "execution_count": 145,
     "metadata": {},
     "output_type": "execute_result"
    }
   ],
   "source": [
    "json_dict"
   ]
  },
  {
   "cell_type": "code",
   "execution_count": 140,
   "metadata": {},
   "outputs": [
    {
     "data": {
      "text/plain": [
       "[{'firstName': 'Jason', 'lastName': 'Edelman'},\n",
       " {'firstName': 'Scott', 'lastName': 'Lowe'},\n",
       " {'firstName': 'Matt', 'lastName': 'Oswalt'}]"
      ]
     },
     "execution_count": 140,
     "metadata": {},
     "output_type": "execute_result"
    }
   ],
   "source": [
    "json_dict['authors']"
   ]
  },
  {
   "cell_type": "code",
   "execution_count": 141,
   "metadata": {},
   "outputs": [
    {
     "data": {
      "text/plain": [
       "{'firstName': 'Jason', 'lastName': 'Edelman'}"
      ]
     },
     "execution_count": 141,
     "metadata": {},
     "output_type": "execute_result"
    }
   ],
   "source": [
    "json_dict['authors'][0]"
   ]
  },
  {
   "cell_type": "code",
   "execution_count": 152,
   "metadata": {},
   "outputs": [
    {
     "name": "stdout",
     "output_type": "stream",
     "text": [
      "{'firstName': 'Jason', 'lastName': 'Edelman'}\n",
      "{'firstName': 'Scott', 'lastName': 'Lowe'}\n",
      "{'firstName': 'Matt', 'lastName': 'Oswalt'}\n"
     ]
    }
   ],
   "source": [
    "for k, v in json_dict.items():\n",
    "    for i in v:\n",
    "        print(i)"
   ]
  },
  {
   "cell_type": "code",
   "execution_count": null,
   "metadata": {},
   "outputs": [],
   "source": []
  }
 ],
 "metadata": {
  "kernelspec": {
   "display_name": "Python 3",
   "language": "python",
   "name": "python3"
  },
  "language_info": {
   "codemirror_mode": {
    "name": "ipython",
    "version": 3
   },
   "file_extension": ".py",
   "mimetype": "text/x-python",
   "name": "python",
   "nbconvert_exporter": "python",
   "pygments_lexer": "ipython3",
   "version": "3.7.6"
  }
 },
 "nbformat": 4,
 "nbformat_minor": 4
}
