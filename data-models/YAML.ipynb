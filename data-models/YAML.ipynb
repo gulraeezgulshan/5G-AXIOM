{
 "cells": [
  {
   "cell_type": "code",
   "execution_count": 9,
   "metadata": {},
   "outputs": [
    {
     "name": "stdout",
     "output_type": "stream",
     "text": [
      "['Mark McGwire', 'Sammy Sosa', 'Ken Griffey']\n"
     ]
    }
   ],
   "source": [
    "# Sequence of Scalars\n",
    "import yaml\n",
    "with open(\"yaml-files/file1.yaml\") as f:\n",
    "    result = yaml.load(f, Loader=yaml.FullLoader)\n",
    "    print(result)"
   ]
  },
  {
   "cell_type": "code",
   "execution_count": 10,
   "metadata": {},
   "outputs": [
    {
     "name": "stdout",
     "output_type": "stream",
     "text": [
      "{'hr': 65, 'avg': 0.278, 'rbi': 147}\n"
     ]
    }
   ],
   "source": [
    "# Mapping Scalars to Scalars\n",
    "import yaml\n",
    "with open(\"yaml-files/file2.yaml\") as f:\n",
    "    result = yaml.load(f, Loader=yaml.FullLoader)\n",
    "    print(result)"
   ]
  },
  {
   "cell_type": "code",
   "execution_count": 12,
   "metadata": {},
   "outputs": [
    {
     "name": "stdout",
     "output_type": "stream",
     "text": [
      "{'american': ['Boston Red Sox', 'Detroit Tigers', 'New York Yankees'], 'national': ['New York Mets', 'Chicago Cubs', 'Atlanta Braves']}\n"
     ]
    }
   ],
   "source": [
    "# Mapping Scalars to Sequences\n",
    "\n",
    "import yaml\n",
    "with open(\"yaml-files/file3.yaml\") as f:\n",
    "    result = yaml.load(f, Loader=yaml.FullLoader)\n",
    "    print(result)"
   ]
  },
  {
   "cell_type": "code",
   "execution_count": 13,
   "metadata": {},
   "outputs": [
    {
     "name": "stdout",
     "output_type": "stream",
     "text": [
      "[{'name': 'Mark McGwire', 'hr': 65, 'avg': 0.278}, {'name': 'Sammy Sosa', 'hr': 63, 'avg': 0.288}]\n"
     ]
    }
   ],
   "source": [
    "# Sequence of Mappings\n",
    "\n",
    "import yaml\n",
    "with open(\"yaml-files/file4.yaml\") as f:\n",
    "    result = yaml.load(f, Loader=yaml.FullLoader)\n",
    "    print(result)"
   ]
  },
  {
   "cell_type": "code",
   "execution_count": 14,
   "metadata": {},
   "outputs": [
    {
     "name": "stdout",
     "output_type": "stream",
     "text": [
      "[['name', 'hr', 'avg'], ['Mark McGwire', 65, 0.278], ['Sammy Sosa', 63, 0.288]]\n"
     ]
    }
   ],
   "source": [
    "# Sequence of Sequences\n",
    "\n",
    "import yaml\n",
    "with open(\"yaml-files/file5.yaml\") as f:\n",
    "    result = yaml.load(f, Loader=yaml.FullLoader)\n",
    "    print(result)"
   ]
  },
  {
   "cell_type": "code",
   "execution_count": 15,
   "metadata": {},
   "outputs": [
    {
     "name": "stdout",
     "output_type": "stream",
     "text": [
      "{'Mark McGwire': {'hr': 65, 'avg': 0.278}, 'Sammy Sosa': {'hr': 63, 'avg': 0.288}}\n"
     ]
    }
   ],
   "source": [
    "# Mapping of Mappings\n",
    "\n",
    "import yaml\n",
    "with open(\"yaml-files/file6.yaml\") as f:\n",
    "    result = yaml.load(f, Loader=yaml.FullLoader)\n",
    "    print(result)"
   ]
  },
  {
   "cell_type": "code",
   "execution_count": 16,
   "metadata": {},
   "outputs": [
    {
     "ename": "ComposerError",
     "evalue": "expected a single document in the stream\n  in \"yaml-files/file7.yaml\", line 3, column 1\nbut found another document\n  in \"yaml-files/file7.yaml\", line 8, column 1",
     "output_type": "error",
     "traceback": [
      "\u001b[0;31m---------------------------------------------------------------------------\u001b[0m",
      "\u001b[0;31mComposerError\u001b[0m                             Traceback (most recent call last)",
      "\u001b[0;32m<ipython-input-16-3f0823f4b859>\u001b[0m in \u001b[0;36m<module>\u001b[0;34m\u001b[0m\n\u001b[1;32m      3\u001b[0m \u001b[0;32mimport\u001b[0m \u001b[0myaml\u001b[0m\u001b[0;34m\u001b[0m\u001b[0;34m\u001b[0m\u001b[0m\n\u001b[1;32m      4\u001b[0m \u001b[0;32mwith\u001b[0m \u001b[0mopen\u001b[0m\u001b[0;34m(\u001b[0m\u001b[0;34m\"yaml-files/file7.yaml\"\u001b[0m\u001b[0;34m)\u001b[0m \u001b[0;32mas\u001b[0m \u001b[0mf\u001b[0m\u001b[0;34m:\u001b[0m\u001b[0;34m\u001b[0m\u001b[0;34m\u001b[0m\u001b[0m\n\u001b[0;32m----> 5\u001b[0;31m     \u001b[0mresult\u001b[0m \u001b[0;34m=\u001b[0m \u001b[0myaml\u001b[0m\u001b[0;34m.\u001b[0m\u001b[0mload\u001b[0m\u001b[0;34m(\u001b[0m\u001b[0mf\u001b[0m\u001b[0;34m,\u001b[0m \u001b[0mLoader\u001b[0m\u001b[0;34m=\u001b[0m\u001b[0myaml\u001b[0m\u001b[0;34m.\u001b[0m\u001b[0mFullLoader\u001b[0m\u001b[0;34m)\u001b[0m\u001b[0;34m\u001b[0m\u001b[0;34m\u001b[0m\u001b[0m\n\u001b[0m\u001b[1;32m      6\u001b[0m     \u001b[0mprint\u001b[0m\u001b[0;34m(\u001b[0m\u001b[0mresult\u001b[0m\u001b[0;34m)\u001b[0m\u001b[0;34m\u001b[0m\u001b[0;34m\u001b[0m\u001b[0m\n",
      "\u001b[0;32m~/anaconda3/lib/python3.7/site-packages/yaml/__init__.py\u001b[0m in \u001b[0;36mload\u001b[0;34m(stream, Loader)\u001b[0m\n\u001b[1;32m    112\u001b[0m     \u001b[0mloader\u001b[0m \u001b[0;34m=\u001b[0m \u001b[0mLoader\u001b[0m\u001b[0;34m(\u001b[0m\u001b[0mstream\u001b[0m\u001b[0;34m)\u001b[0m\u001b[0;34m\u001b[0m\u001b[0;34m\u001b[0m\u001b[0m\n\u001b[1;32m    113\u001b[0m     \u001b[0;32mtry\u001b[0m\u001b[0;34m:\u001b[0m\u001b[0;34m\u001b[0m\u001b[0;34m\u001b[0m\u001b[0m\n\u001b[0;32m--> 114\u001b[0;31m         \u001b[0;32mreturn\u001b[0m \u001b[0mloader\u001b[0m\u001b[0;34m.\u001b[0m\u001b[0mget_single_data\u001b[0m\u001b[0;34m(\u001b[0m\u001b[0;34m)\u001b[0m\u001b[0;34m\u001b[0m\u001b[0;34m\u001b[0m\u001b[0m\n\u001b[0m\u001b[1;32m    115\u001b[0m     \u001b[0;32mfinally\u001b[0m\u001b[0;34m:\u001b[0m\u001b[0;34m\u001b[0m\u001b[0;34m\u001b[0m\u001b[0m\n\u001b[1;32m    116\u001b[0m         \u001b[0mloader\u001b[0m\u001b[0;34m.\u001b[0m\u001b[0mdispose\u001b[0m\u001b[0;34m(\u001b[0m\u001b[0;34m)\u001b[0m\u001b[0;34m\u001b[0m\u001b[0;34m\u001b[0m\u001b[0m\n",
      "\u001b[0;32m~/anaconda3/lib/python3.7/site-packages/yaml/constructor.py\u001b[0m in \u001b[0;36mget_single_data\u001b[0;34m(self)\u001b[0m\n\u001b[1;32m     39\u001b[0m     \u001b[0;32mdef\u001b[0m \u001b[0mget_single_data\u001b[0m\u001b[0;34m(\u001b[0m\u001b[0mself\u001b[0m\u001b[0;34m)\u001b[0m\u001b[0;34m:\u001b[0m\u001b[0;34m\u001b[0m\u001b[0;34m\u001b[0m\u001b[0m\n\u001b[1;32m     40\u001b[0m         \u001b[0;31m# Ensure that the stream contains a single document and construct it.\u001b[0m\u001b[0;34m\u001b[0m\u001b[0;34m\u001b[0m\u001b[0;34m\u001b[0m\u001b[0m\n\u001b[0;32m---> 41\u001b[0;31m         \u001b[0mnode\u001b[0m \u001b[0;34m=\u001b[0m \u001b[0mself\u001b[0m\u001b[0;34m.\u001b[0m\u001b[0mget_single_node\u001b[0m\u001b[0;34m(\u001b[0m\u001b[0;34m)\u001b[0m\u001b[0;34m\u001b[0m\u001b[0;34m\u001b[0m\u001b[0m\n\u001b[0m\u001b[1;32m     42\u001b[0m         \u001b[0;32mif\u001b[0m \u001b[0mnode\u001b[0m \u001b[0;32mis\u001b[0m \u001b[0;32mnot\u001b[0m \u001b[0;32mNone\u001b[0m\u001b[0;34m:\u001b[0m\u001b[0;34m\u001b[0m\u001b[0;34m\u001b[0m\u001b[0m\n\u001b[1;32m     43\u001b[0m             \u001b[0;32mreturn\u001b[0m \u001b[0mself\u001b[0m\u001b[0;34m.\u001b[0m\u001b[0mconstruct_document\u001b[0m\u001b[0;34m(\u001b[0m\u001b[0mnode\u001b[0m\u001b[0;34m)\u001b[0m\u001b[0;34m\u001b[0m\u001b[0;34m\u001b[0m\u001b[0m\n",
      "\u001b[0;32m~/anaconda3/lib/python3.7/site-packages/yaml/composer.py\u001b[0m in \u001b[0;36mget_single_node\u001b[0;34m(self)\u001b[0m\n\u001b[1;32m     41\u001b[0m             raise ComposerError(\"expected a single document in the stream\",\n\u001b[1;32m     42\u001b[0m                     \u001b[0mdocument\u001b[0m\u001b[0;34m.\u001b[0m\u001b[0mstart_mark\u001b[0m\u001b[0;34m,\u001b[0m \u001b[0;34m\"but found another document\"\u001b[0m\u001b[0;34m,\u001b[0m\u001b[0;34m\u001b[0m\u001b[0;34m\u001b[0m\u001b[0m\n\u001b[0;32m---> 43\u001b[0;31m                     event.start_mark)\n\u001b[0m\u001b[1;32m     44\u001b[0m \u001b[0;34m\u001b[0m\u001b[0m\n\u001b[1;32m     45\u001b[0m         \u001b[0;31m# Drop the STREAM-END event.\u001b[0m\u001b[0;34m\u001b[0m\u001b[0;34m\u001b[0m\u001b[0;34m\u001b[0m\u001b[0m\n",
      "\u001b[0;31mComposerError\u001b[0m: expected a single document in the stream\n  in \"yaml-files/file7.yaml\", line 3, column 1\nbut found another document\n  in \"yaml-files/file7.yaml\", line 8, column 1"
     ]
    }
   ],
   "source": [
    "# Two Documents in a Stream\n",
    "\n",
    "import yaml\n",
    "with open(\"yaml-files/file7.yaml\") as f:\n",
    "    result = yaml.load(f, Loader=yaml.FullLoader)\n",
    "    print(result)"
   ]
  },
  {
   "cell_type": "code",
   "execution_count": 18,
   "metadata": {},
   "outputs": [
    {
     "name": "stdout",
     "output_type": "stream",
     "text": [
      "['Mark McGwire', 'Sammy Sosa', 'Ken Griffey']\n",
      "['Chicago Cubs', 'St Louis Cardinals']\n"
     ]
    }
   ],
   "source": [
    "# Two Documents in a Stream\n",
    "\n",
    "import yaml\n",
    "with open(\"yaml-files/file7.yaml\") as f:\n",
    "    for result in yaml.load_all(f, Loader=yaml.FullLoader):\n",
    "        print(result)"
   ]
  },
  {
   "cell_type": "code",
   "execution_count": 19,
   "metadata": {},
   "outputs": [
    {
     "name": "stdout",
     "output_type": "stream",
     "text": [
      "{'time': 72200, 'player': 'Sammy Sosa', 'action': 'strike (miss)'}\n",
      "{'time': 72227, 'player': 'Sammy Sosa', 'action': 'grand slam'}\n"
     ]
    }
   ],
   "source": [
    "# Two Documents in a Stream\n",
    "\n",
    "import yaml\n",
    "with open(\"yaml-files/file8.yaml\") as f:\n",
    "    for result in yaml.load_all(f, Loader=yaml.FullLoader):\n",
    "        print(result)"
   ]
  },
  {
   "cell_type": "code",
   "execution_count": 20,
   "metadata": {},
   "outputs": [
    {
     "name": "stdout",
     "output_type": "stream",
     "text": [
      "{'hr': ['Mark McGwire', 'Sammy Sosa'], 'rbi': ['Sammy Sosa', 'Ken Griffey']}\n"
     ]
    }
   ],
   "source": [
    "# Single Document with Two Comments\n",
    "\n",
    "import yaml\n",
    "with open(\"yaml-files/file9.yaml\") as f:\n",
    "    for result in yaml.load_all(f, Loader=yaml.FullLoader):\n",
    "        print(result)"
   ]
  },
  {
   "cell_type": "code",
   "execution_count": 21,
   "metadata": {},
   "outputs": [
    {
     "name": "stdout",
     "output_type": "stream",
     "text": [
      "{'hr': ['Mark McGwire', 'Sammy Sosa'], 'rbi': ['Sammy Sosa', 'Ken Griffey']}\n"
     ]
    }
   ],
   "source": [
    "# Reuseable Nodes\n",
    "\n",
    "import yaml\n",
    "with open(\"yaml-files/file10.yaml\") as f:\n",
    "    for result in yaml.load_all(f, Loader=yaml.FullLoader):\n",
    "        print(result)"
   ]
  },
  {
   "cell_type": "code",
   "execution_count": 29,
   "metadata": {},
   "outputs": [
    {
     "name": "stdout",
     "output_type": "stream",
     "text": [
      "[{'item': 'Super Hoop', 'quantity': 1}, {'item': 'Basketball', 'quantity': 4}, {'item': 'Big Shoes', 'quantity': 1}]\n"
     ]
    }
   ],
   "source": [
    "# In-Line Nested Mapping\n",
    "\n",
    "import yaml\n",
    "with open(\"yaml-files/file11.yaml\") as f:\n",
    "    for result in yaml.load_all(f, Loader=yaml.FullLoader):\n",
    "        print(result)"
   ]
  },
  {
   "cell_type": "code",
   "execution_count": 30,
   "metadata": {},
   "outputs": [
    {
     "name": "stdout",
     "output_type": "stream",
     "text": [
      "\\//||\\/||\n",
      "// ||  ||__\n"
     ]
    }
   ],
   "source": [
    "# In literals, newlines are preserved\n",
    "\n",
    "import yaml\n",
    "with open(\"yaml-files/file12.yaml\") as f:\n",
    "    for result in yaml.load_all(f, Loader=yaml.FullLoader):\n",
    "        print(result)"
   ]
  },
  {
   "cell_type": "code",
   "execution_count": 32,
   "metadata": {},
   "outputs": [
    {
     "name": "stdout",
     "output_type": "stream",
     "text": [
      "Mark McGwire's year was crippled by a knee injury.\n"
     ]
    }
   ],
   "source": [
    "# In the plain scalar, newlines become spaces\n",
    "\n",
    "import yaml\n",
    "with open(\"yaml-files/file13.yaml\") as f:\n",
    "    for result in yaml.load_all(f, Loader=yaml.FullLoader):\n",
    "        print(result)"
   ]
  },
  {
   "cell_type": "code",
   "execution_count": 33,
   "metadata": {},
   "outputs": [
    {
     "name": "stdout",
     "output_type": "stream",
     "text": [
      "Sammy Sosa completed another fine season with great stats.\n",
      "\n",
      "  63 Home Runs\n",
      "  0.288 Batting Average\n",
      "\n",
      "What a year!\n"
     ]
    }
   ],
   "source": [
    "# Folded newlines\n",
    "\n",
    "import yaml\n",
    "with open(\"yaml-files/file14.yaml\") as f:\n",
    "    for result in yaml.load_all(f, Loader=yaml.FullLoader):\n",
    "        print(result)"
   ]
  },
  {
   "cell_type": "code",
   "execution_count": 35,
   "metadata": {},
   "outputs": [
    {
     "name": "stdout",
     "output_type": "stream",
     "text": [
      "{'name': 'Mark McGwire', 'accomplishment': 'Mark set a major league home run record in 1998.\\n', 'stats': '65 Home Runs\\n0.278 Batting Average'}\n"
     ]
    }
   ],
   "source": [
    "# Indentation determines scope\n",
    "\n",
    "import yaml\n",
    "with open(\"yaml-files/file15.yaml\") as f:\n",
    "    for result in yaml.load_all(f, Loader=yaml.FullLoader):\n",
    "        print(result)"
   ]
  },
  {
   "cell_type": "code",
   "execution_count": 40,
   "metadata": {},
   "outputs": [
    {
     "name": "stdout",
     "output_type": "stream",
     "text": [
      "{'unicode': 'Sosa did fine.☺', 'single': '\"Howdy!\" he cried.', 'quoted': \" # not a 'comment'.\", 'tie-fighter': '|\\\\-*-/|'}\n"
     ]
    }
   ],
   "source": [
    "# Quoted Scalars\n",
    "\n",
    "import yaml\n",
    "with open(\"yaml-files/file16.yaml\") as f:\n",
    "    for result in yaml.load_all(f, Loader=yaml.FullLoader):\n",
    "        print(result)"
   ]
  },
  {
   "cell_type": "code",
   "execution_count": 41,
   "metadata": {},
   "outputs": [
    {
     "name": "stdout",
     "output_type": "stream",
     "text": [
      "{'plain': 'This unquoted scalar spans many lines.', 'quoted': 'So does this quoted scalar.\\n'}\n"
     ]
    }
   ],
   "source": [
    "# Multi-line Flow Scalars\n",
    "\n",
    "import yaml\n",
    "with open(\"yaml-files/file17.yaml\") as f:\n",
    "    for result in yaml.load_all(f, Loader=yaml.FullLoader):\n",
    "        print(result)"
   ]
  },
  {
   "cell_type": "code",
   "execution_count": 45,
   "metadata": {},
   "outputs": [
    {
     "name": "stdout",
     "output_type": "stream",
     "text": [
      "{'binary': 2, 'octal': 12, 'hexadecimal': 12}\n"
     ]
    }
   ],
   "source": [
    "# Integers\n",
    "\n",
    "import yaml\n",
    "with open(\"yaml-files/file18.yaml\") as f:\n",
    "    for result in yaml.load_all(f, Loader=yaml.FullLoader):\n",
    "        print(result)"
   ]
  },
  {
   "cell_type": "code",
   "execution_count": 48,
   "metadata": {},
   "outputs": [
    {
     "name": "stdout",
     "output_type": "stream",
     "text": [
      "{'canonical': 1230.15, 'exponential': 1230.15, 'fixed': '1,230.15', 'negative infinity': -inf, 'not a number': nan}\n"
     ]
    }
   ],
   "source": [
    "# Floating Point\n",
    "\n",
    "import yaml\n",
    "with open(\"yaml-files/file20.yaml\") as f:\n",
    "    for result in yaml.load_all(f, Loader=yaml.FullLoader):\n",
    "        print(result)"
   ]
  },
  {
   "cell_type": "code",
   "execution_count": 49,
   "metadata": {},
   "outputs": [
    {
     "name": "stdout",
     "output_type": "stream",
     "text": [
      "{None: None, True: 'y', False: 'n', 'string': '12345'}\n"
     ]
    }
   ],
   "source": [
    "# Miscellaneous\n",
    "\n",
    "import yaml\n",
    "with open(\"yaml-files/file21.yaml\") as f:\n",
    "    for result in yaml.load_all(f, Loader=yaml.FullLoader):\n",
    "        print(result)"
   ]
  },
  {
   "cell_type": "code",
   "execution_count": 50,
   "metadata": {},
   "outputs": [
    {
     "name": "stdout",
     "output_type": "stream",
     "text": [
      "{'canonical': datetime.datetime(2001, 12, 15, 2, 59, 43, 100000, tzinfo=datetime.timezone.utc), 'iso8601': datetime.datetime(2001, 12, 14, 21, 59, 43, 100000, tzinfo=datetime.timezone(datetime.timedelta(days=-1, seconds=68400))), 'spaced': datetime.datetime(2001, 12, 14, 21, 59, 43, 100000, tzinfo=datetime.timezone(datetime.timedelta(days=-1, seconds=68400))), 'date': datetime.date(2002, 12, 14)}\n"
     ]
    }
   ],
   "source": [
    "# Timestamps\n",
    "\n",
    "import yaml\n",
    "with open(\"yaml-files/file22.yaml\") as f:\n",
    "    for result in yaml.load_all(f, Loader=yaml.FullLoader):\n",
    "        print(result)"
   ]
  },
  {
   "cell_type": "code",
   "execution_count": 57,
   "metadata": {},
   "outputs": [
    {
     "name": "stdout",
     "output_type": "stream",
     "text": [
      "{'date': datetime.date(2002, 4, 28), 'not-date': '2002-04-28', 'picture': 'R0lGODlhDAAMAIQAAP//9/X\\n17unp5WZmZgAAAOfn515eXv\\nPz7Y6OjuDg4J+fn5OTk6enp\\n56enmleECcgggoBADs=\\n', 'non-binary picture': b\"GIF89a\\x0c\\x00\\x0c\\x00\\x84\\x00\\x00\\xff\\xff\\xf7\\xf5\\xf5\\xee\\xe9\\xe9\\xe5fff\\x00\\x00\\x00\\xe7\\xe7\\xe7^^^\\xf3\\xf3\\xed\\x8e\\x8e\\x8e\\xe0\\xe0\\xe0\\x9f\\x9f\\x9f\\x93\\x93\\x93\\xa7\\xa7\\xa7\\x9e\\x9e\\x9ei^\\x10' \\x82\\n\\x01\\x00;\"}\n"
     ]
    }
   ],
   "source": [
    "# Various Explicit Tags\n",
    "\n",
    "import yaml\n",
    "with open(\"yaml-files/file23.yaml\") as f:\n",
    "    for result in yaml.load_all(f, Loader=yaml.FullLoader):\n",
    "        print(result)"
   ]
  },
  {
   "cell_type": "code",
   "execution_count": 64,
   "metadata": {},
   "outputs": [
    {
     "name": "stdout",
     "output_type": "stream",
     "text": [
      "{'Mark McGwire': None, 'Sammy Sosa': None, 'Ken Griff': None}\n",
      "{'Mark McGwire', 'Sammy Sosa', 'Ken Griff'}\n"
     ]
    }
   ],
   "source": [
    "# Unordered Sets\n",
    "\n",
    "import yaml\n",
    "with open(\"yaml-files/file25.yaml\") as f:\n",
    "    for result in yaml.load_all(f, Loader=yaml.FullLoader):\n",
    "        print(result)"
   ]
  },
  {
   "cell_type": "code",
   "execution_count": 68,
   "metadata": {},
   "outputs": [
    {
     "name": "stdout",
     "output_type": "stream",
     "text": [
      "[{'Mark McGwire': 65}, {'Sammy Sosa': 63}, {'Ken Griffy': 58}]\n",
      "[('Mark McGwire', 65), ('Sammy Sosa', 63), ('Ken Griffy', 58)]\n"
     ]
    }
   ],
   "source": [
    "# Ordered Mappings\n",
    "\n",
    "import yaml\n",
    "with open(\"yaml-files/file26.yaml\") as f:\n",
    "    for result in yaml.load_all(f, Loader=yaml.FullLoader):\n",
    "        print(result)"
   ]
  },
  {
   "cell_type": "code",
   "execution_count": 75,
   "metadata": {},
   "outputs": [
    {
     "name": "stdout",
     "output_type": "stream",
     "text": [
      "{'invoice': 34843, 'date': datetime.date(2001, 1, 23), 'bill-to': {'given': 'Chris', 'family': 'Dumars', 'address': {'lines': '458 Walkman Dr.\\nSuite #292\\n', 'city': 'Royal Oak', 'state': 'MI', 'postal': 48046}}, 'ship-to': {'given': 'Chris', 'family': 'Dumars', 'address': {'lines': '458 Walkman Dr.\\nSuite #292\\n', 'city': 'Royal Oak', 'state': 'MI', 'postal': 48046}}, 'product': [{'sku': 'BL394D', 'quantity': 4, 'description': 'Basketball', 'price': 450.0}, {'sku': 'BL4438H', 'quantity': 1, 'description': 'Super Hoop', 'price': 2392.0}], 'tax': 251.42, 'total': 4443.52, 'comments': 'Late afternoon is best. Backup contact is Nancy Billsmer @ 338-4338.'}\n"
     ]
    }
   ],
   "source": [
    "# Invoice\n",
    "import yaml\n",
    "with open(\"yaml-files/file27.yaml\") as f:\n",
    "    for result in yaml.load_all(f, Loader=yaml.FullLoader):\n",
    "        print(result)"
   ]
  },
  {
   "cell_type": "code",
   "execution_count": 76,
   "metadata": {},
   "outputs": [
    {
     "name": "stdout",
     "output_type": "stream",
     "text": [
      "{   'bill-to': {   'address': {   'city': 'Royal Oak',\n",
      "                                  'lines': '458 Walkman Dr.\\nSuite #292\\n',\n",
      "                                  'postal': 48046,\n",
      "                                  'state': 'MI'},\n",
      "                   'family': 'Dumars',\n",
      "                   'given': 'Chris'},\n",
      "    'comments': 'Late afternoon is best. Backup contact is Nancy Billsmer @ '\n",
      "                '338-4338.',\n",
      "    'date': datetime.date(2001, 1, 23),\n",
      "    'invoice': 34843,\n",
      "    'product': [   {   'description': 'Basketball',\n",
      "                       'price': 450.0,\n",
      "                       'quantity': 4,\n",
      "                       'sku': 'BL394D'},\n",
      "                   {   'description': 'Super Hoop',\n",
      "                       'price': 2392.0,\n",
      "                       'quantity': 1,\n",
      "                       'sku': 'BL4438H'}],\n",
      "    'ship-to': {   'address': {   'city': 'Royal Oak',\n",
      "                                  'lines': '458 Walkman Dr.\\nSuite #292\\n',\n",
      "                                  'postal': 48046,\n",
      "                                  'state': 'MI'},\n",
      "                   'family': 'Dumars',\n",
      "                   'given': 'Chris'},\n",
      "    'tax': 251.42,\n",
      "    'total': 4443.52}\n"
     ]
    }
   ],
   "source": [
    "# Invoice\n",
    "import pprint\n",
    "import yaml\n",
    "with open(\"yaml-files/file27.yaml\") as f:\n",
    "    for result in yaml.load_all(f, Loader=yaml.FullLoader):\n",
    "        pp = pprint.PrettyPrinter(indent=4)\n",
    "        pp.pprint(result)"
   ]
  },
  {
   "cell_type": "code",
   "execution_count": 80,
   "metadata": {},
   "outputs": [
    {
     "name": "stdout",
     "output_type": "stream",
     "text": [
      "{'Time': datetime.datetime(2001, 11, 23, 15, 1, 42, tzinfo=datetime.timezone(datetime.timedelta(days=-1, seconds=68400))), 'User': 'ed', 'Warning': 'This is an error message for the log file'}\n",
      "{'Time': datetime.datetime(2001, 11, 23, 15, 2, 31, tzinfo=datetime.timezone(datetime.timedelta(days=-1, seconds=68400))), 'User': 'ed', 'Warning': 'A slightly different error message.'}\n",
      "{'Date': datetime.datetime(2001, 11, 23, 15, 3, 17, tzinfo=datetime.timezone(datetime.timedelta(days=-1, seconds=68400))), 'User': 'ed', 'Fatal': 'Unknown variable \"bar\"', 'Stack': [{'file': 'TopClass.py', 'line': 23, 'code': 'x = MoreObject(\"345\\\\n\")\\n'}, {'file': 'MoreClass.py', 'line': 58, 'code': 'foo = bar'}]}\n"
     ]
    }
   ],
   "source": [
    "# Log File\n",
    "import yaml\n",
    "with open(\"yaml-files/file28.yaml\") as f:\n",
    "    for result in yaml.load_all(f, Loader=yaml.FullLoader):\n",
    "        print(result)"
   ]
  },
  {
   "cell_type": "code",
   "execution_count": 78,
   "metadata": {},
   "outputs": [
    {
     "name": "stdout",
     "output_type": "stream",
     "text": [
      "{   'Time': datetime.datetime(2001, 11, 23, 15, 1, 42, tzinfo=datetime.timezone(datetime.timedelta(days=-1, seconds=68400))),\n",
      "    'User': 'ed',\n",
      "    'Warning': 'This is an error message for the log file'}\n",
      "{   'Time': datetime.datetime(2001, 11, 23, 15, 2, 31, tzinfo=datetime.timezone(datetime.timedelta(days=-1, seconds=68400))),\n",
      "    'User': 'ed',\n",
      "    'Warning': 'A slightly different error message.'}\n",
      "{   'Date': datetime.datetime(2001, 11, 23, 15, 3, 17, tzinfo=datetime.timezone(datetime.timedelta(days=-1, seconds=68400))),\n",
      "    'Fatal': 'Unknown variable \"bar\"',\n",
      "    'Stack': [   {   'code': 'x = MoreObject(\"345\\\\n\")\\n',\n",
      "                     'file': 'TopClass.py',\n",
      "                     'line': 23},\n",
      "                 {'code': 'foo = bar', 'file': 'MoreClass.py', 'line': 58}],\n",
      "    'User': 'ed'}\n"
     ]
    }
   ],
   "source": [
    "# Log File\n",
    "import pprint\n",
    "import yaml\n",
    "with open(\"yaml-files/file28.yaml\") as f:\n",
    "    for result in yaml.load_all(f, Loader=yaml.FullLoader):\n",
    "        pp = pprint.PrettyPrinter(indent=4)\n",
    "        pp.pprint(result)"
   ]
  },
  {
   "cell_type": "markdown",
   "metadata": {},
   "source": [
    "## Data Modeling (YAML)"
   ]
  },
  {
   "cell_type": "markdown",
   "metadata": {},
   "source": [
    "### Working with Kwalify"
   ]
  },
  {
   "cell_type": "code",
   "execution_count": 83,
   "metadata": {},
   "outputs": [
    {
     "data": {
      "text/plain": [
       "['foo', 'bar', 'baz']"
      ]
     },
     "execution_count": 83,
     "metadata": {},
     "output_type": "execute_result"
    }
   ],
   "source": [
    "from pykwalify.core import Core\n",
    "c = Core(source_file=\"yaml-schemas/file1.yaml\", schema_files=[\"yaml-schemas/schema1.yaml\"])\n",
    "c.validate(raise_exception=True)"
   ]
  },
  {
   "cell_type": "code",
   "execution_count": 86,
   "metadata": {},
   "outputs": [
    {
     "data": {
      "text/plain": [
       "{'name': 'foo',\n",
       " 'email': 'foo@mail.com',\n",
       " 'age': 20,\n",
       " 'birth': datetime.date(1985, 1, 1)}"
      ]
     },
     "execution_count": 86,
     "metadata": {},
     "output_type": "execute_result"
    }
   ],
   "source": [
    "from pykwalify.core import Core\n",
    "c = Core(source_file=\"yaml-schemas/file2.yaml\", schema_files=[\"yaml-schemas/schema2.yaml\"])\n",
    "c.validate(raise_exception=True)"
   ]
  },
  {
   "cell_type": "code",
   "execution_count": 87,
   "metadata": {},
   "outputs": [
    {
     "data": {
      "text/plain": [
       "[{'name': 'foo', 'email': 'foo@mail.com'},\n",
       " {'name': 'bar', 'email': 'bar@mail.net'},\n",
       " {'name': 'baz', 'email': 'baz@mail.org'}]"
      ]
     },
     "execution_count": 87,
     "metadata": {},
     "output_type": "execute_result"
    }
   ],
   "source": [
    "from pykwalify.core import Core\n",
    "c = Core(source_file=\"yaml-schemas/file3.yaml\", schema_files=[\"yaml-schemas/schema3.yaml\"])\n",
    "c.validate(raise_exception=True)"
   ]
  },
  {
   "cell_type": "code",
   "execution_count": 88,
   "metadata": {},
   "outputs": [
    {
     "data": {
      "text/plain": [
       "{'company': 'Kuwata lab.',\n",
       " 'email': 'webmaster@kuwata-lab.com',\n",
       " 'employees': [{'code': 101, 'name': 'foo', 'email': 'foo@kuwata-lab.com'},\n",
       "  {'code': 102, 'name': 'bar', 'email': 'bar@kuwata-lab.com'}]}"
      ]
     },
     "execution_count": 88,
     "metadata": {},
     "output_type": "execute_result"
    }
   ],
   "source": [
    "from pykwalify.core import Core\n",
    "c = Core(source_file=\"yaml-schemas/file4.yaml\", schema_files=[\"yaml-schemas/schema4.yaml\"])\n",
    "c.validate(raise_exception=True)"
   ]
  },
  {
   "cell_type": "code",
   "execution_count": 99,
   "metadata": {},
   "outputs": [
    {
     "data": {
      "text/plain": [
       "[{'name': 'foo',\n",
       "  'email': 'foo@mail.com',\n",
       "  'password': 'xxx123456',\n",
       "  'age': 20,\n",
       "  'blood': 'A',\n",
       "  'birth': datetime.date(1985, 1, 1),\n",
       "  'deleted': False},\n",
       " {'name': 'bar',\n",
       "  'email': 'bar@mail.net',\n",
       "  'age': 25,\n",
       "  'blood': 'AB',\n",
       "  'birth': datetime.date(1980, 1, 1),\n",
       "  'deleted': False}]"
      ]
     },
     "execution_count": 99,
     "metadata": {},
     "output_type": "execute_result"
    }
   ],
   "source": [
    "from pykwalify.core import Core\n",
    "c = Core(source_file=\"yaml-schemas/file5.yaml\", schema_files=[\"yaml-schemas/schema5.yaml\"])\n",
    "c.validate(raise_exception=True)"
   ]
  },
  {
   "cell_type": "code",
   "execution_count": 100,
   "metadata": {},
   "outputs": [
    {
     "data": {
      "text/plain": [
       "[{'name': 'foo',\n",
       "  'email': 'admin@mail.com',\n",
       "  'groups': ['users', 'foo', 'admin']},\n",
       " {'name': 'bar', 'email': 'admin@mail.com', 'groups': ['users', 'admin']},\n",
       " {'name': 'baz', 'email': 'baz@mail.com', 'groups': ['users']}]"
      ]
     },
     "execution_count": 100,
     "metadata": {},
     "output_type": "execute_result"
    }
   ],
   "source": [
    "from pykwalify.core import Core\n",
    "c = Core(source_file=\"yaml-schemas/file6.yaml\", schema_files=[\"yaml-schemas/schema6.yaml\"])\n",
    "c.validate(raise_exception=True)"
   ]
  },
  {
   "cell_type": "code",
   "execution_count": 109,
   "metadata": {},
   "outputs": [
    {
     "data": {
      "text/plain": [
       "[[123], 'foobar']"
      ]
     },
     "execution_count": 109,
     "metadata": {},
     "output_type": "execute_result"
    }
   ],
   "source": [
    "from pykwalify.core import Core\n",
    "c = Core(source_file=\"yaml-schemas/file7.yaml\", schema_files=[\"yaml-schemas/schema7.yaml\"])\n",
    "c.validate(raise_exception=True)"
   ]
  },
  {
   "cell_type": "code",
   "execution_count": 110,
   "metadata": {},
   "outputs": [
    {
     "data": {
      "text/plain": [
       "{'email': 'foo@mail.com'}"
      ]
     },
     "execution_count": 110,
     "metadata": {},
     "output_type": "execute_result"
    }
   ],
   "source": [
    "from pykwalify.core import Core\n",
    "c = Core(source_file=\"yaml-schemas/file8.yaml\", schema_files=[\"yaml-schemas/schema8.yaml\"])\n",
    "c.validate(raise_exception=True)"
   ]
  },
  {
   "cell_type": "code",
   "execution_count": null,
   "metadata": {},
   "outputs": [],
   "source": []
  }
 ],
 "metadata": {
  "kernelspec": {
   "display_name": "Python 3",
   "language": "python",
   "name": "python3"
  },
  "language_info": {
   "codemirror_mode": {
    "name": "ipython",
    "version": 3
   },
   "file_extension": ".py",
   "mimetype": "text/x-python",
   "name": "python",
   "nbconvert_exporter": "python",
   "pygments_lexer": "ipython3",
   "version": "3.7.6"
  }
 },
 "nbformat": 4,
 "nbformat_minor": 4
}
