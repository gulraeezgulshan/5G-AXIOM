{
 "cells": [
  {
   "cell_type": "code",
   "execution_count": 35,
   "metadata": {},
   "outputs": [
    {
     "name": "stdout",
     "output_type": "stream",
     "text": [
      "\n",
      "Enter the IP address: 200.1.1.1\n"
     ]
    }
   ],
   "source": [
    " while True:\n",
    "            # Take IP as input\n",
    "            input_ip = input(\"\\nEnter the IP address: \")\n",
    "\n",
    "            # Validate the IP\n",
    "            octet_ip = input_ip.split(\".\")\n",
    "            #print octet_ip\n",
    "            int_octet_ip = [int(i) for i in octet_ip]\n",
    "\n",
    "            if (len(int_octet_ip) == 4) and \\\n",
    "                    (int_octet_ip[0] != 127) and \\\n",
    "                    (int_octet_ip[0] != 169) and  \\\n",
    "                    (0 <= int_octet_ip[1] <= 255) and \\\n",
    "                    (0 <= int_octet_ip[2] <=255) and \\\n",
    "                    (0 <= int_octet_ip[3] <= 255):\n",
    "                break\n",
    "            else:\n",
    "                print(\"Invalid IP, retry \\n\")\n",
    "                continue"
   ]
  },
  {
   "cell_type": "code",
   "execution_count": 36,
   "metadata": {},
   "outputs": [
    {
     "data": {
      "text/plain": [
       "[200, 1, 1, 1]"
      ]
     },
     "execution_count": 36,
     "metadata": {},
     "output_type": "execute_result"
    }
   ],
   "source": [
    "int_octet_ip"
   ]
  },
  {
   "cell_type": "code",
   "execution_count": 37,
   "metadata": {},
   "outputs": [],
   "source": [
    "# Predefine possible subnet masks\n",
    "masks = [0, 128, 192, 224, 240, 248, 252, 254, 255]"
   ]
  },
  {
   "cell_type": "code",
   "execution_count": 38,
   "metadata": {},
   "outputs": [
    {
     "name": "stdout",
     "output_type": "stream",
     "text": [
      "\n",
      "Enter the Subnet Mask: 255.255.255.252\n"
     ]
    }
   ],
   "source": [
    "while True:\n",
    "            # Take subnet mask as input\n",
    "            input_subnet = input(\"\\nEnter the Subnet Mask: \")\n",
    "\n",
    "            # Validate the subnet mask\n",
    "            octet_subnet = [int(j) for j in input_subnet.split(\".\")]\n",
    "            # print octet_subnet\n",
    "            if (len(octet_subnet) == 4) and \\\n",
    "                    (octet_subnet[0] == 255) and \\\n",
    "                    (octet_subnet[1] in masks) and \\\n",
    "                    (octet_subnet[2] in masks) and \\\n",
    "                    (octet_subnet[3] in masks) and \\\n",
    "                    (octet_subnet[0] >= octet_subnet[1] >= octet_subnet[2] >= octet_subnet[3]):\n",
    "                break\n",
    "            else:\n",
    "                print(\"Invalid subnet mask, retry\\n\")\n",
    "                continue"
   ]
  },
  {
   "cell_type": "code",
   "execution_count": 39,
   "metadata": {},
   "outputs": [
    {
     "name": "stdout",
     "output_type": "stream",
     "text": [
      "False\n",
      "True\n"
     ]
    }
   ],
   "source": [
    "print(255>=0>=128>=0) # Invalid\n",
    "print(255>=128>=0>=0) # Valid"
   ]
  },
  {
   "cell_type": "code",
   "execution_count": 40,
   "metadata": {},
   "outputs": [
    {
     "data": {
      "text/plain": [
       "[255, 255, 255, 252]"
      ]
     },
     "execution_count": 40,
     "metadata": {},
     "output_type": "execute_result"
    }
   ],
   "source": [
    "octet_subnet"
   ]
  },
  {
   "cell_type": "code",
   "execution_count": 41,
   "metadata": {},
   "outputs": [
    {
     "data": {
      "text/plain": [
       "[200, 1, 1, 1]"
      ]
     },
     "execution_count": 41,
     "metadata": {},
     "output_type": "execute_result"
    }
   ],
   "source": [
    "int_octet_ip"
   ]
  },
  {
   "cell_type": "code",
   "execution_count": 42,
   "metadata": {},
   "outputs": [
    {
     "data": {
      "text/plain": [
       "'0b11001000'"
      ]
     },
     "execution_count": 42,
     "metadata": {},
     "output_type": "execute_result"
    }
   ],
   "source": [
    "bin(int_octet_ip[0])"
   ]
  },
  {
   "cell_type": "code",
   "execution_count": 43,
   "metadata": {},
   "outputs": [
    {
     "data": {
      "text/plain": [
       "['0', '11001000']"
      ]
     },
     "execution_count": 43,
     "metadata": {},
     "output_type": "execute_result"
    }
   ],
   "source": [
    "bin(int_octet_ip[0]).split(\"b\")"
   ]
  },
  {
   "cell_type": "code",
   "execution_count": 44,
   "metadata": {},
   "outputs": [
    {
     "data": {
      "text/plain": [
       "'11001000'"
      ]
     },
     "execution_count": 44,
     "metadata": {},
     "output_type": "execute_result"
    }
   ],
   "source": [
    "bin(int_octet_ip[0]).split(\"b\")[1]"
   ]
  },
  {
   "cell_type": "code",
   "execution_count": 45,
   "metadata": {},
   "outputs": [],
   "source": [
    "# Converting IP and subnet to binary\n",
    "ip_in_binary = []\n",
    "\n",
    "# Convert each IP octet to binary\n",
    "ip_in_bin_octets = [bin(i).split(\"b\")[1] for i in int_octet_ip]"
   ]
  },
  {
   "cell_type": "code",
   "execution_count": 46,
   "metadata": {},
   "outputs": [
    {
     "data": {
      "text/plain": [
       "[200, 1, 1, 1]"
      ]
     },
     "execution_count": 46,
     "metadata": {},
     "output_type": "execute_result"
    }
   ],
   "source": [
    "int_octet_ip"
   ]
  },
  {
   "cell_type": "code",
   "execution_count": 47,
   "metadata": {},
   "outputs": [
    {
     "data": {
      "text/plain": [
       "['11001000', '1', '1', '1']"
      ]
     },
     "execution_count": 47,
     "metadata": {},
     "output_type": "execute_result"
    }
   ],
   "source": [
    "ip_in_bin_octets"
   ]
  },
  {
   "cell_type": "code",
   "execution_count": 48,
   "metadata": {},
   "outputs": [
    {
     "name": "stdout",
     "output_type": "stream",
     "text": [
      "11001000\n",
      "00000001\n",
      "00000001\n",
      "00000001\n"
     ]
    }
   ],
   "source": [
    "print(ip_in_bin_octets[0].zfill(8)) \n",
    "print(ip_in_bin_octets[1].zfill(8))\n",
    "print(ip_in_bin_octets[2].zfill(8))\n",
    "print(ip_in_bin_octets[3].zfill(8))"
   ]
  },
  {
   "cell_type": "code",
   "execution_count": 49,
   "metadata": {},
   "outputs": [],
   "source": [
    "# make each binary octet of 8 bit length by padding zeros\n",
    "for i in range(0,len(ip_in_bin_octets)):\n",
    "    if len(ip_in_bin_octets[i]) < 8:\n",
    "        padded_bin = ip_in_bin_octets[i].zfill(8)\n",
    "        ip_in_binary.append(padded_bin)\n",
    "    else:\n",
    "        ip_in_binary.append(ip_in_bin_octets[i])"
   ]
  },
  {
   "cell_type": "code",
   "execution_count": 17,
   "metadata": {},
   "outputs": [],
   "source": [
    "#ip_in_binary.clear()"
   ]
  },
  {
   "cell_type": "code",
   "execution_count": 50,
   "metadata": {},
   "outputs": [
    {
     "data": {
      "text/plain": [
       "['11001000', '00000001', '00000001', '00000001']"
      ]
     },
     "execution_count": 50,
     "metadata": {},
     "output_type": "execute_result"
    }
   ],
   "source": [
    "ip_in_binary"
   ]
  },
  {
   "cell_type": "code",
   "execution_count": 51,
   "metadata": {},
   "outputs": [],
   "source": [
    "# join the binary octets\n",
    "ip_bin_mask = \"\".join(ip_in_binary)"
   ]
  },
  {
   "cell_type": "code",
   "execution_count": 52,
   "metadata": {},
   "outputs": [
    {
     "data": {
      "text/plain": [
       "'11001000000000010000000100000001'"
      ]
     },
     "execution_count": 52,
     "metadata": {},
     "output_type": "execute_result"
    }
   ],
   "source": [
    "ip_bin_mask"
   ]
  },
  {
   "cell_type": "code",
   "execution_count": 53,
   "metadata": {},
   "outputs": [
    {
     "data": {
      "text/plain": [
       "[255, 255, 255, 252]"
      ]
     },
     "execution_count": 53,
     "metadata": {},
     "output_type": "execute_result"
    }
   ],
   "source": [
    "octet_subnet"
   ]
  },
  {
   "cell_type": "code",
   "execution_count": 54,
   "metadata": {},
   "outputs": [],
   "source": [
    "# print ip_bin_mask\n",
    "sub_in_bin = []\n",
    "\n",
    "# convert each subnet octet to binary\n",
    "sub_bin_octet = [bin(i).split(\"b\")[1] for i in octet_subnet]"
   ]
  },
  {
   "cell_type": "code",
   "execution_count": 55,
   "metadata": {},
   "outputs": [
    {
     "data": {
      "text/plain": [
       "['11111111', '11111111', '11111111', '11111100']"
      ]
     },
     "execution_count": 55,
     "metadata": {},
     "output_type": "execute_result"
    }
   ],
   "source": [
    "sub_bin_octet"
   ]
  },
  {
   "cell_type": "code",
   "execution_count": 56,
   "metadata": {},
   "outputs": [],
   "source": [
    " # make each binary octet of 8 bit length by padding zeros\n",
    "for i in sub_bin_octet:\n",
    "    if len(i) < 8:\n",
    "        sub_padded = i.zfill(8)\n",
    "        sub_in_bin.append(sub_padded)\n",
    "    else:\n",
    "        sub_in_bin.append(i)"
   ]
  },
  {
   "cell_type": "code",
   "execution_count": 57,
   "metadata": {},
   "outputs": [
    {
     "data": {
      "text/plain": [
       "['11111111', '11111111', '11111111', '11111100']"
      ]
     },
     "execution_count": 57,
     "metadata": {},
     "output_type": "execute_result"
    }
   ],
   "source": [
    "sub_in_bin"
   ]
  },
  {
   "cell_type": "code",
   "execution_count": 58,
   "metadata": {},
   "outputs": [],
   "source": [
    "# print sub_in_bin\n",
    "sub_bin_mask = \"\".join(sub_in_bin)"
   ]
  },
  {
   "cell_type": "code",
   "execution_count": 59,
   "metadata": {},
   "outputs": [
    {
     "data": {
      "text/plain": [
       "'11111111111111111111111111111100'"
      ]
     },
     "execution_count": 59,
     "metadata": {},
     "output_type": "execute_result"
    }
   ],
   "source": [
    "sub_bin_mask"
   ]
  },
  {
   "cell_type": "code",
   "execution_count": 60,
   "metadata": {},
   "outputs": [
    {
     "name": "stdout",
     "output_type": "stream",
     "text": [
      "2\n",
      "30\n",
      "2\n"
     ]
    }
   ],
   "source": [
    "# calculating number of hosts\n",
    "\n",
    "no_zeros = sub_bin_mask.count(\"0\")\n",
    "no_ones = 32 - no_zeros\n",
    "no_hosts = abs(2 ** no_zeros - 2)\n",
    "\n",
    "print(no_zeros)\n",
    "print(no_ones)\n",
    "print(no_hosts)"
   ]
  },
  {
   "cell_type": "code",
   "execution_count": 67,
   "metadata": {},
   "outputs": [
    {
     "data": {
      "text/plain": [
       "[255, 255, 255, 252]"
      ]
     },
     "execution_count": 67,
     "metadata": {},
     "output_type": "execute_result"
    }
   ],
   "source": [
    "octet_subnet"
   ]
  },
  {
   "cell_type": "code",
   "execution_count": 61,
   "metadata": {},
   "outputs": [],
   "source": [
    "# Calculating wildcard mask\n",
    "wild_mask = []\n",
    "for i in octet_subnet:\n",
    "    wild_bit = 255 - i\n",
    "    wild_mask.append(wild_bit)"
   ]
  },
  {
   "cell_type": "code",
   "execution_count": 68,
   "metadata": {},
   "outputs": [
    {
     "data": {
      "text/plain": [
       "[0, 0, 0, 3]"
      ]
     },
     "execution_count": 68,
     "metadata": {},
     "output_type": "execute_result"
    }
   ],
   "source": [
    "wild_mask"
   ]
  },
  {
   "cell_type": "code",
   "execution_count": 69,
   "metadata": {},
   "outputs": [],
   "source": [
    "wildcard = \".\".join([str(i) for i in wild_mask])"
   ]
  },
  {
   "cell_type": "code",
   "execution_count": 70,
   "metadata": {},
   "outputs": [
    {
     "data": {
      "text/plain": [
       "'0.0.0.3'"
      ]
     },
     "execution_count": 70,
     "metadata": {},
     "output_type": "execute_result"
    }
   ],
   "source": [
    "wildcard"
   ]
  },
  {
   "cell_type": "code",
   "execution_count": 65,
   "metadata": {},
   "outputs": [
    {
     "data": {
      "text/plain": [
       "'11001000000000010000000100000001'"
      ]
     },
     "execution_count": 65,
     "metadata": {},
     "output_type": "execute_result"
    }
   ],
   "source": [
    "ip_bin_mask"
   ]
  },
  {
   "cell_type": "code",
   "execution_count": 71,
   "metadata": {},
   "outputs": [
    {
     "data": {
      "text/plain": [
       "'110010000000000100000001000000'"
      ]
     },
     "execution_count": 71,
     "metadata": {},
     "output_type": "execute_result"
    }
   ],
   "source": [
    "ip_bin_mask[:no_ones]"
   ]
  },
  {
   "cell_type": "code",
   "execution_count": 72,
   "metadata": {},
   "outputs": [
    {
     "data": {
      "text/plain": [
       "'00'"
      ]
     },
     "execution_count": 72,
     "metadata": {},
     "output_type": "execute_result"
    }
   ],
   "source": [
    "\"0\" * no_zeros"
   ]
  },
  {
   "cell_type": "code",
   "execution_count": 74,
   "metadata": {},
   "outputs": [
    {
     "data": {
      "text/plain": [
       "'11001000000000010000000100000000'"
      ]
     },
     "execution_count": 74,
     "metadata": {},
     "output_type": "execute_result"
    }
   ],
   "source": [
    "ip_bin_mask[:no_ones] + \"0\" * no_zeros"
   ]
  },
  {
   "cell_type": "code",
   "execution_count": 75,
   "metadata": {},
   "outputs": [],
   "source": [
    "# Calculating the network and broadcast address\n",
    "\n",
    "network_add_bin = ip_bin_mask[:no_ones] + \"0\" * no_zeros\n",
    "broadcast_add_bin = ip_bin_mask[:no_ones] + \"1\" * no_zeros"
   ]
  },
  {
   "cell_type": "code",
   "execution_count": 76,
   "metadata": {},
   "outputs": [
    {
     "name": "stdout",
     "output_type": "stream",
     "text": [
      "11001000000000010000000100000000\n",
      "11001000000000010000000100000011\n"
     ]
    }
   ],
   "source": [
    "print(network_add_bin)\n",
    "print(broadcast_add_bin)"
   ]
  },
  {
   "cell_type": "code",
   "execution_count": 77,
   "metadata": {},
   "outputs": [
    {
     "data": {
      "text/plain": [
       "[None, None, None, None]"
      ]
     },
     "execution_count": 77,
     "metadata": {},
     "output_type": "execute_result"
    }
   ],
   "source": [
    "network_add_bin_octet = []\n",
    "broadcast_binoct = []\n",
    "\n",
    "[network_add_bin_octet.append(i) for i in [network_add_bin[j:j+8] for j in range(0, len(network_add_bin), 8)]]\n",
    "[broadcast_binoct.append(i) for i in [broadcast_add_bin[j:j+8] for j in range(0,len(broadcast_add_bin),8)]]"
   ]
  },
  {
   "cell_type": "code",
   "execution_count": 78,
   "metadata": {},
   "outputs": [
    {
     "data": {
      "text/plain": [
       "['11001000', '00000001', '00000001', '00000000']"
      ]
     },
     "execution_count": 78,
     "metadata": {},
     "output_type": "execute_result"
    }
   ],
   "source": [
    "network_add_bin_octet"
   ]
  },
  {
   "cell_type": "code",
   "execution_count": 79,
   "metadata": {},
   "outputs": [
    {
     "data": {
      "text/plain": [
       "['11001000', '00000001', '00000001', '00000011']"
      ]
     },
     "execution_count": 79,
     "metadata": {},
     "output_type": "execute_result"
    }
   ],
   "source": [
    "broadcast_binoct"
   ]
  },
  {
   "cell_type": "code",
   "execution_count": 80,
   "metadata": {},
   "outputs": [],
   "source": [
    "network_add_dec_final = \".\".join([str(int(i,2)) for i in network_add_bin_octet])\n",
    "broadcast_add_dec_final = \".\".join([str(int(i,2)) for i in broadcast_binoct])"
   ]
  },
  {
   "cell_type": "code",
   "execution_count": 81,
   "metadata": {},
   "outputs": [
    {
     "name": "stdout",
     "output_type": "stream",
     "text": [
      "200.1.1.0\n",
      "200.1.1.3\n"
     ]
    }
   ],
   "source": [
    "print(network_add_dec_final)\n",
    "print(broadcast_add_dec_final)"
   ]
  },
  {
   "cell_type": "code",
   "execution_count": 82,
   "metadata": {},
   "outputs": [],
   "source": [
    "# Calculate the host IP range\n",
    "first_ip_host = network_add_bin_octet[0:3] + [(bin(int(network_add_bin_octet[3],2)+1).split(\"b\")[1].zfill(8))]\n",
    "first_ip = \".\".join([str(int(i,2)) for i in first_ip_host])"
   ]
  },
  {
   "cell_type": "code",
   "execution_count": 83,
   "metadata": {},
   "outputs": [
    {
     "data": {
      "text/plain": [
       "'200.1.1.1'"
      ]
     },
     "execution_count": 83,
     "metadata": {},
     "output_type": "execute_result"
    }
   ],
   "source": [
    "first_ip"
   ]
  },
  {
   "cell_type": "code",
   "execution_count": 84,
   "metadata": {},
   "outputs": [],
   "source": [
    "last_ip_host = broadcast_binoct[0:3] + [bin(int(broadcast_binoct[3],2) - 1).split(\"b\")[1].zfill(8)]\n",
    "last_ip = \".\".join([str(int(i,2)) for i in last_ip_host])"
   ]
  },
  {
   "cell_type": "code",
   "execution_count": 85,
   "metadata": {},
   "outputs": [
    {
     "data": {
      "text/plain": [
       "'200.1.1.2'"
      ]
     },
     "execution_count": 85,
     "metadata": {},
     "output_type": "execute_result"
    }
   ],
   "source": [
    "last_ip"
   ]
  },
  {
   "cell_type": "code",
   "execution_count": 86,
   "metadata": {},
   "outputs": [
    {
     "name": "stdout",
     "output_type": "stream",
     "text": [
      "\n",
      "The entered ip address is: 200.1.1.1\n",
      "The entered subnet mask is: 255.255.255.252\n",
      "Calculated number of hosts per subnet: 2\n",
      "Calculated number of mask bits: 30\n",
      "Calculated wildcard mask is: 0.0.0.3\n",
      "The Network address is: 200.1.1.0\n",
      "The Broadcast address is: 200.1.1.3\n",
      "IP address range is: 200.1.1.1 - 200.1.1.2\n",
      "Maximum number of subnets is: 64\n"
     ]
    }
   ],
   "source": [
    "# print all the computed results\n",
    "print(\"\\nThe entered ip address is: \" + input_ip)\n",
    "print(\"The entered subnet mask is: \" + input_subnet)\n",
    "print(\"Calculated number of hosts per subnet: {0}\".format(str(no_hosts)))\n",
    "print(\"Calculated number of mask bits: {0}\".format(str(no_ones)))\n",
    "print(\"Calculated wildcard mask is: {0}\".format(wildcard))\n",
    "print(\"The Network address is: {0}\".format(network_add_dec_final))\n",
    "print(\"The Broadcast address is: {0}\".format(broadcast_add_dec_final))\n",
    "print(\"IP address range is: {0} - {1}\".format(first_ip, last_ip))\n",
    "print(\"Maximum number of subnets is: \" + str(2**abs(24 - no_ones)))"
   ]
  },
  {
   "cell_type": "code",
   "execution_count": 89,
   "metadata": {},
   "outputs": [],
   "source": [
    "import re\n",
    "p = \"BBCCC\"\n",
    "\n",
    "re.search(\"[a-z]\",p)"
   ]
  },
  {
   "cell_type": "code",
   "execution_count": 97,
   "metadata": {},
   "outputs": [
    {
     "name": "stdout",
     "output_type": "stream",
     "text": [
      "Capital letter is not present\n"
     ]
    }
   ],
   "source": [
    "import re\n",
    "\n",
    "items= \"aaaaa\"\n",
    "\n",
    "if not re.search(\"[a-z]\",p):\n",
    "    continue\n",
    "elif not re.search(\"[0-9]\",p):\n",
    "    continue\n",
    "elif not re.search(\"[A-Z]\",p):\n",
    "    continue\n",
    "elif not re.search(\"[$#@]\",p):\n",
    "    continue\n",
    "elif re.search(\"\\s\",p):\n",
    "    continue\n",
    "else:\n",
    "    pass\n",
    "\n",
    "value.append(p)"
   ]
  },
  {
   "cell_type": "code",
   "execution_count": 98,
   "metadata": {},
   "outputs": [
    {
     "name": "stdout",
     "output_type": "stream",
     "text": [
      "Tom,19,80\n",
      "John,20,90\n",
      "Jony,17,91\n",
      "Jony,17,93\n",
      "Json,21,85\n",
      "\n",
      "[('John', '20', '90'), ('Jony', '17', '91'), ('Jony', '17', '93'), ('Json', '21', '85'), ('Tom', '19', '80')]\n"
     ]
    }
   ],
   "source": [
    "from operator import itemgetter, attrgetter\n",
    "\n",
    "l = []\n",
    "\n",
    "while True:\n",
    "    s = input()\n",
    "    if not s:\n",
    "        break\n",
    "    l.append(tuple(s.split(\",\")))\n",
    "\n",
    "print (sorted(l, key=itemgetter(0,1,2)))"
   ]
  },
  {
   "cell_type": "code",
   "execution_count": null,
   "metadata": {},
   "outputs": [],
   "source": [
    "0,1,2\n",
    "\n",
    "\n",
    "# A ,3 , 1\n",
    "# A, 2 , 2\n",
    "# A, 1 , 3\n",
    "# B, 1 , 1\n",
    "\n",
    "# A, 1 , 3\n",
    "# A, 2 , 2\n",
    "# A ,3 , 1\n",
    "# B, 1 , 1"
   ]
  },
  {
   "cell_type": "code",
   "execution_count": null,
   "metadata": {},
   "outputs": [],
   "source": [
    "print(abs.__doc__)\n",
    "print(int.__doc__)\n",
    "print(input.__doc__)\n",
    "\n",
    "def square(num):\n",
    "    '''Return the square value of the input number.\n",
    "    \n",
    "    The input number must be integer.\n",
    "    '''\n",
    "    return num ** 2\n",
    "\n",
    "print(square(2))\n",
    "print(square.__doc__)"
   ]
  },
  {
   "cell_type": "code",
   "execution_count": 99,
   "metadata": {},
   "outputs": [
    {
     "data": {
      "text/plain": [
       "['__call__',\n",
       " '__class__',\n",
       " '__delattr__',\n",
       " '__dir__',\n",
       " '__doc__',\n",
       " '__eq__',\n",
       " '__format__',\n",
       " '__ge__',\n",
       " '__getattribute__',\n",
       " '__gt__',\n",
       " '__hash__',\n",
       " '__init__',\n",
       " '__init_subclass__',\n",
       " '__le__',\n",
       " '__lt__',\n",
       " '__module__',\n",
       " '__name__',\n",
       " '__ne__',\n",
       " '__new__',\n",
       " '__qualname__',\n",
       " '__reduce__',\n",
       " '__reduce_ex__',\n",
       " '__repr__',\n",
       " '__self__',\n",
       " '__setattr__',\n",
       " '__sizeof__',\n",
       " '__str__',\n",
       " '__subclasshook__',\n",
       " '__text_signature__']"
      ]
     },
     "execution_count": 99,
     "metadata": {},
     "output_type": "execute_result"
    }
   ],
   "source": [
    "dir(abs)"
   ]
  },
  {
   "cell_type": "code",
   "execution_count": 100,
   "metadata": {},
   "outputs": [
    {
     "data": {
      "text/plain": [
       "builtin_function_or_method"
      ]
     },
     "execution_count": 100,
     "metadata": {},
     "output_type": "execute_result"
    }
   ],
   "source": [
    "abs.__class__"
   ]
  },
  {
   "cell_type": "code",
   "execution_count": 101,
   "metadata": {},
   "outputs": [
    {
     "data": {
      "text/plain": [
       "'Return the absolute value of the argument.'"
      ]
     },
     "execution_count": 101,
     "metadata": {},
     "output_type": "execute_result"
    }
   ],
   "source": [
    "abs.__doc__"
   ]
  },
  {
   "cell_type": "code",
   "execution_count": 102,
   "metadata": {},
   "outputs": [],
   "source": [
    "def square(num):\n",
    "    '''Return the square value of the input number.\n",
    "    \n",
    "    The input number must be integer.\n",
    "    '''\n",
    "    return num ** 2"
   ]
  },
  {
   "cell_type": "code",
   "execution_count": 107,
   "metadata": {},
   "outputs": [
    {
     "name": "stdout",
     "output_type": "stream",
     "text": [
      "4\n"
     ]
    }
   ],
   "source": [
    "print(square(2))"
   ]
  },
  {
   "cell_type": "code",
   "execution_count": 109,
   "metadata": {},
   "outputs": [
    {
     "name": "stdout",
     "output_type": "stream",
     "text": [
      "Return the square value of the input number.\n",
      "    \n",
      "    The input number must be integer.\n",
      "    \n"
     ]
    }
   ],
   "source": [
    "print(square.__doc__)"
   ]
  },
  {
   "cell_type": "code",
   "execution_count": null,
   "metadata": {},
   "outputs": [],
   "source": []
  },
  {
   "cell_type": "code",
   "execution_count": null,
   "metadata": {},
   "outputs": [],
   "source": []
  }
 ],
 "metadata": {
  "kernelspec": {
   "display_name": "Python 3",
   "language": "python",
   "name": "python3"
  },
  "language_info": {
   "codemirror_mode": {
    "name": "ipython",
    "version": 3
   },
   "file_extension": ".py",
   "mimetype": "text/x-python",
   "name": "python",
   "nbconvert_exporter": "python",
   "pygments_lexer": "ipython3",
   "version": "3.7.6"
  }
 },
 "nbformat": 4,
 "nbformat_minor": 4
}
